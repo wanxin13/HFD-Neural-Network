{
 "cells": [
  {
   "cell_type": "markdown",
   "metadata": {},
   "source": [
    "\n",
    "# Exercise 1\n",
    "\n"
   ]
  },
  {
   "cell_type": "markdown",
   "metadata": {},
   "source": [
    "\n",
    "## Exercise 1A\n",
    "\n"
   ]
  },
  {
   "cell_type": "markdown",
   "metadata": {},
   "source": [
    "Create a function to load your stock data into Python.\n",
    "\n",
    "There are many ways of importing data into Python.\n",
    "Some are low-level and require you to manage each line of a file, while others are high-level and extract data from commonly used files, like `.csv` files.\n",
    "\n",
    "To open a file for reading in Python we use the built-in function `open`. It takes the path to the file as an argument. The `open` function also takes as argument the mode to open the file, in this case we want Python to read the file, as opposed to write to the file.\n",
    "\n",
    "After opening the file, we will get a file handle, which has a method that reads an entire line and returns it a string. We can then parse this string to obtain the values we need.\n",
    "We can repeat this process on all lines of the file to extract all the data from the file.\n",
    "\n",
    "This process is necessary when the formatting of our file is not-standard, or we want to process the data (check for errors, for example) as we read it.\n",
    "However, reading the `.csv` files we use are quite standard, and we can use one of many high-level functions to extract the data from it.\n",
    "\n",
    "One of those functions is `numpy.loadtxt`.\n",
    "Read the documentation [here](https://docs.scipy.org/doc/numpy-1.15.0/reference/generated/numpy.loadtxt.html).\n",
    "Use this function to load the data for your stocks.\n",
    "\n"
   ]
  },
  {
   "cell_type": "code",
   "execution_count": null,
   "metadata": {},
   "outputs": [],
   "source": [
    "import numpy as np\n",
    "# dtype={'names': ('date', 'time', 'price'), 'formats': ('int_', 'int_', 'float_')}\n",
    "\n",
    "def importStock(path):\n",
    "    return np.loadtxt(?????)\n",
    "\n",
    "# data = importStock('Data/SPY.csv')"
   ]
  },
  {
   "cell_type": "markdown",
   "metadata": {},
   "source": [
    "\n",
    "### (OPTIONAL) Exercise 1A Alternative\n",
    "\n"
   ]
  },
  {
   "cell_type": "markdown",
   "metadata": {},
   "source": [
    "As an ****optional**** exercise, use the `open` built-in to load the data into numpy arrays.\n",
    "Here is a bare bones of how you would do that:\n",
    "\n"
   ]
  },
  {
   "cell_type": "code",
   "execution_count": null,
   "metadata": {},
   "outputs": [],
   "source": [
    "def importStock(path):\n",
    "    date, time, price = [], [], []\n",
    "    with open(path, 'r') as csv:\n",
    "        for line in csv:\n",
    "            # process line\n",
    "            # append correct values to date, time and price lists\n",
    "    # convert the lists to numpy arrays with the appropriate data types\n",
    "    date = np.array(date, dtype='int_')\n",
    "    time = np.array(time, dtype='int_')\n",
    "    price = np.array(price, dtype='float_')\n",
    "    return date, time, price"
   ]
  },
  {
   "cell_type": "markdown",
   "metadata": {},
   "source": [
    "The `with` statement in the function above does the job of opening and closing the file.\n",
    "It first opens the file and then executes the code inside its block, after that code is done executing (in this case the `for` loop), then the file is automatically closed.\n",
    "The file will also be closed even if there is an error processing it.\n",
    "The `with` statement block is equivalent to the code below:\n",
    "\n"
   ]
  },
  {
   "cell_type": "code",
   "execution_count": null,
   "metadata": {},
   "outputs": [],
   "source": [
    "csv = open(path, 'r')\n",
    "try:\n",
    "    for line in csv:\n",
    "        # process line\n",
    "finally:\n",
    "    csv.close()"
   ]
  },
  {
   "cell_type": "markdown",
   "metadata": {},
   "source": [
    "\n",
    "## Exercise 1B\n",
    "\n"
   ]
  },
  {
   "cell_type": "markdown",
   "metadata": {},
   "source": [
    "Create a function that takes the date and time data you just imported and generates a `datetime.datetime` array (much like the Matlab serial date format). This format is used to get the correct axis labels when plotting.\n",
    "\n",
    "You can read more about `datetime.datetime` objects [here](https://docs.python.org/3.6/library/datetime.html#datetime-objects).\n",
    "\n",
    "First, import the `datetime` class from the `datetime` module (the module name is the same as the class name):\n",
    "\n"
   ]
  },
  {
   "cell_type": "code",
   "execution_count": null,
   "metadata": {},
   "outputs": [],
   "source": [
    "from datetime import datetime\n",
    "# now datetime can be used"
   ]
  },
  {
   "cell_type": "markdown",
   "metadata": {},
   "source": [
    "We can now create a datetime instance by calling the `datetime` function with the arguments:\n",
    "`datetime(year, month, day, hour, minute, second)`.\n",
    "The time arguments (hour, minute and second) are optional, and if are not given will default to 0.\n",
    "Since we are using intraday data, we will also provide those values.\n",
    "\n",
    "Our data has dates in the format YYYYMMDD, like 20070801.\n",
    "We need to split these integers to get the year, month and day information out of them.\n",
    "There are many ways of doing that, for example:\n",
    "\n"
   ]
  },
  {
   "cell_type": "code",
   "execution_count": null,
   "metadata": {},
   "outputs": [],
   "source": [
    "a_date = 20070801\n",
    "a_date_str = str(a_date)\n",
    "year = int(a_date_str[:4])\n",
    "month = int(a_date_str[4:6])\n",
    "day = int(a_date_str[6:])\n",
    "print(year, month, day)"
   ]
  },
  {
   "cell_type": "markdown",
   "metadata": {},
   "source": [
    "You can do the same for the time information, like 935:\n",
    "\n"
   ]
  },
  {
   "cell_type": "code",
   "execution_count": null,
   "metadata": {},
   "outputs": [],
   "source": [
    "a_time = 935\n",
    "a_time_str = str(a_time)\n",
    "hour = int(a_time_str[:-2])\n",
    "minute = int(a_time_str[-2:])\n",
    "print(hour, minute)"
   ]
  },
  {
   "cell_type": "markdown",
   "metadata": {},
   "source": [
    "We can combine the date and time information into the `datetime` object:\n",
    "\n"
   ]
  },
  {
   "cell_type": "code",
   "execution_count": null,
   "metadata": {},
   "outputs": [],
   "source": [
    "dt = datetime(year, month, day, hour, minute)\n",
    "print(dt)"
   ]
  },
  {
   "cell_type": "markdown",
   "metadata": {},
   "source": [
    "You now should be able to create a function that combines dates and times into an array of `datetime` objects.\n",
    "You do not have to follow what I did above. You could use integer division to recover the values, and that might be faster.\n",
    "\n"
   ]
  },
  {
   "cell_type": "code",
   "execution_count": null,
   "metadata": {},
   "outputs": [],
   "source": [
    "def getDatetime(data):\n",
    "    # do things here\n",
    "    # return an array of datetimes\n",
    "dt = getDatetime(data)"
   ]
  },
  {
   "cell_type": "markdown",
   "metadata": {},
   "source": [
    "As an ****optional**** exercise, compare the speed of converting to datetime using integer division and using the string conversion suggested above.\n",
    "\n"
   ]
  },
  {
   "cell_type": "markdown",
   "metadata": {},
   "source": [
    "\n",
    "## Exercise 1C\n",
    "\n"
   ]
  },
  {
   "cell_type": "markdown",
   "metadata": {},
   "source": [
    "Create a function that computes the intraday geometric returns (log-returns) given the prices, the number of prices in a day and the number of days in the data.\n",
    "Remember that we have $N=78$ prices per day over $T=2769$ days.\n",
    "\n",
    "You may want to use the `numpy.ndarray.reshape` method. Also check `numpy.log` and `numpy.diff`.\n",
    "The documentation for reshape is [here](https://docs.scipy.org/doc/numpy-1.15.1/reference/generated/numpy.ndarray.reshape.html?highlight=reshape#numpy-ndarray-reshape), and you can use the search box to find the documentation for the other functions.\n",
    "\n"
   ]
  },
  {
   "cell_type": "code",
   "execution_count": null,
   "metadata": {},
   "outputs": [],
   "source": [
    "def getReturns(data, N, T):\n",
    "    # computes log-returns\n",
    "N = 78\n",
    "T = 2769\n",
    "ret = getReturns(data, 78, 2769)"
   ]
  },
  {
   "cell_type": "markdown",
   "metadata": {},
   "source": [
    "\n",
    "## Exercise 1D\n",
    "\n"
   ]
  },
  {
   "cell_type": "markdown",
   "metadata": {},
   "source": [
    "Create a function to compute the realized variance out of the intraday returns for each day.\n",
    "Remember that the usual opearations happen element wise in numpy, and that the symbol `**` is the exponent operator.\n",
    "\n"
   ]
  },
  {
   "cell_type": "code",
   "execution_count": null,
   "metadata": {},
   "outputs": [],
   "source": [
    "def getRV(ret):\n",
    "    # compute RVs\n",
    "\n",
    "RV = getRV(ret)"
   ]
  },
  {
   "cell_type": "markdown",
   "metadata": {},
   "source": [
    "\n",
    "## Exercise 1E\n",
    "\n"
   ]
  },
  {
   "cell_type": "markdown",
   "metadata": {},
   "source": [
    "Create a function to compute the bipower variance for each day.\n",
    "\n"
   ]
  },
  {
   "cell_type": "code",
   "execution_count": null,
   "metadata": {},
   "outputs": [],
   "source": [
    "def getBV(ret):\n",
    "    # compute BVs\n",
    "\n",
    "BV = getBV(ret)"
   ]
  },
  {
   "cell_type": "markdown",
   "metadata": {},
   "source": [
    "\n",
    "## Exercise 1F\n",
    "\n"
   ]
  },
  {
   "cell_type": "markdown",
   "metadata": {},
   "source": [
    "Create a function to find the time of day factor for each day.\n",
    "\n"
   ]
  },
  {
   "cell_type": "code",
   "execution_count": null,
   "metadata": {},
   "outputs": [],
   "source": [
    "def getTOD(ret):\n",
    "    # compute time of day factor\n",
    "\n",
    "tod = getTOD(ret)"
   ]
  },
  {
   "cell_type": "markdown",
   "metadata": {},
   "source": [
    "\n",
    "## Exercise 1G\n",
    "\n"
   ]
  },
  {
   "cell_type": "markdown",
   "metadata": {},
   "source": [
    "Create a function that computes the diffusive and jump returns.\n",
    "\n"
   ]
  },
  {
   "cell_type": "code",
   "execution_count": null,
   "metadata": {},
   "outputs": [],
   "source": [
    "def separateReturns(ret, alpha=5):\n",
    "    # compute jump threshold\n",
    "    # separate diffusive from jump returns\n",
    "    # return diffusive and jump returns\n",
    "rc, rd = separateReturns(ret)"
   ]
  },
  {
   "cell_type": "markdown",
   "metadata": {},
   "source": [
    "\n",
    "## Exercise 1H\n",
    "\n"
   ]
  },
  {
   "cell_type": "markdown",
   "metadata": {},
   "source": [
    "Create a function to compute the integrated quarticity.\n",
    "\n"
   ]
  },
  {
   "cell_type": "code",
   "execution_count": null,
   "metadata": {},
   "outputs": [],
   "source": [
    "def getQIV(rc):\n",
    "    # compute QIV\n",
    "\n",
    "QIV = getQIV(rc)"
   ]
  },
  {
   "cell_type": "markdown",
   "metadata": {},
   "source": [
    "\n",
    "# Exercise 2\n",
    "\n"
   ]
  },
  {
   "cell_type": "markdown",
   "metadata": {},
   "source": [
    "\n",
    "## Exercise 2A\n",
    "\n"
   ]
  },
  {
   "cell_type": "markdown",
   "metadata": {},
   "source": [
    "We want to compare the forecast errors of the AR, HAR and No Change models to the forecast error of a neural network model.\n",
    "Let's construct what will be the input of these models by creating then matrix below:\n",
    "\n",
    "\\begin{align*}\n",
    "\\begin{pmatrix}\n",
    "1 & \\text{RV}_{22} & \\text{RV}_{22}^w & \\text{RV}_{22}^m & \\widehat{QIV}_{22}^{1/2}\\text{RV}_{22}\\\\\n",
    "1 & \\text{RV}_{23} & \\text{RV}_{23}^w & \\text{RV}_{23}^m & \\widehat{QIV}_{23}^{1/2}\\text{RV}_{23}\\\\\n",
    "\\vdots & \\vdots\\\\\n",
    "1 & \\text{RV}_{T} & \\text{RV}_{T}^w & \\text{RV}_{T}^m & \\widehat{QIV}_{T}^{1/2}\\text{RV}_{T}\n",
    "\\end{pmatrix}\n",
    "\\end{align*}\n",
    "\n",
    "where $T=2769$ is the total number of days.\n",
    "\n",
    "First, generate $\\text{RV}^w$ and $\\text{RV}^m$ from the realized variances. Then create the matrix above.\n",
    "Notice that we have $2769$ days in total, this means the first index of the $\\text{RV}$'s is $1$, but on Python the index of an array starts at $0$, so when we actually create the matrix above we need to be careful with the first index.\n",
    "\n"
   ]
  },
  {
   "cell_type": "code",
   "execution_count": null,
   "metadata": {},
   "outputs": [],
   "source": [
    "def getRVWeek(RV):\n",
    "    # compute all RVw\n",
    "\n",
    "def getRVMonth(RV):\n",
    "    # compute all RVm\n",
    "\n",
    "\n",
    "RVw = getRVWeek(RV)\n",
    "RVm = getRVMonth(RV)\n",
    "\n",
    "model_input = np.ones((T-22+1, 5), dtype='float_')\n",
    "model_input[:, 1] = RV[21:]\n",
    "model_input[:, 2] = RVw[21:]\n",
    "model_input[:, 3] = RVm[21:]\n",
    "model_input[:, 4] = np.sqrt(QIV[21:])*RV[21:]\n",
    "print(model_input.shape)\n",
    "columns = model_input.shape[1]"
   ]
  },
  {
   "cell_type": "markdown",
   "metadata": {},
   "source": [
    "\n",
    "## Exercise 2B\n",
    "\n"
   ]
  },
  {
   "cell_type": "markdown",
   "metadata": {},
   "source": [
    "Implement a rolling window scheme using 1000 data points to compute the 1-step ahead forecast for the models:\n",
    "\n",
    "-   No Change\n",
    "-   AR(1)\n",
    "-   HAR(1)\n",
    "-   ARQ(1)\n",
    "-   HARQ(1)\n",
    "\n",
    "Run the rolling scheme over all data and obtain the mean squared error of each model.\n",
    "Create a table with the results.\n",
    "\n"
   ]
  },
  {
   "cell_type": "code",
   "execution_count": null,
   "metadata": {},
   "outputs": [],
   "source": [
    "def OLS(Y, X):\n",
    "    # return beta estimate from OLS\n",
    "    # np.linalg.inv computes the inverse of a matrix\n",
    "    # remember that in numpy * is elementwise multiplication\n",
    "    # the symbol for matrix multiplication is @, as in X.T@X\n",
    "    # X.T is the tranpose of X"
   ]
  },
  {
   "cell_type": "code",
   "execution_count": null,
   "metadata": {},
   "outputs": [],
   "source": [
    "def forecastError(Y, X, Y_next, X_next):\n",
    "    # computes the forecast error\n",
    "    # estimate beta\n",
    "    # forecast y\n",
    "    return (Y_next - Y_forecast)**2"
   ]
  },
  {
   "cell_type": "code",
   "execution_count": null,
   "metadata": {},
   "outputs": [],
   "source": [
    "error = {'AR1': 0.0, 'HAR1': 0.0, 'ARQ1': 0.0, 'HARQ1': 0.0, 'NoChange': 0.0}\n",
    "window_size = 1000\n",
    "# rolling window + 1-step-ahead forecast\n",
    "for S in range(???,???):\n",
    "    window_x = range(S - window_size, S)\n",
    "    window_y = range(S - window_size + 1, S + 1)\n",
    "    # AR(1)\n",
    "    error['AR1'] += forecastError(model_input[?,?],\n",
    "                                  model_input[?,?],\n",
    "                                  model_input[?,?],\n",
    "                                  model_input[?,?])\n",
    "    # HAR(1)\n",
    "    error['HAR1'] += forecastError(model_input[?,?],\n",
    "                                   model_input[?,?],\n",
    "                                   model_input[?,?],\n",
    "                                   model_input[?,?])\n",
    "    # ARQ(1)\n",
    "    error['ARQ1'] += forecastError(model_input[?,?],\n",
    "                                   model_input[?,?],\n",
    "                                   model_input[?,?],\n",
    "                                   model_input[?,?])\n",
    "    # HARQ(1)\n",
    "    error['HARQ1'] += forecastError(model_input[?,?],\n",
    "                                    model_input[?,?],\n",
    "                                    model_input[?,?],\n",
    "                                    model_input[?,?])\n",
    "    # No Change\n",
    "    error['NoChange'] += (model_input[?,?]-model_input[?,?])**2"
   ]
  },
  {
   "cell_type": "code",
   "execution_count": null,
   "metadata": {},
   "outputs": [],
   "source": [
    "# compute and print MSE\n",
    "total = len(model_input) - window_size\n",
    "print(\"{:^10}|{:^10}\".format('Model','MSE'))\n",
    "print(f\"{'-'*21}\")\n",
    "[print(f'{model:^10}|{value/total:^10.8f}') for model, value in error.items()]\n",
    "print(f\"{'-'*21}\")"
   ]
  },
  {
   "cell_type": "markdown",
   "metadata": {},
   "source": [
    "\n",
    "## Exercise 2C\n",
    "\n"
   ]
  },
  {
   "cell_type": "markdown",
   "metadata": {},
   "source": [
    "The absolute values of the MSE are quite small.\n",
    "To make the comparison easier, create a table with the MSE of each model divided by the MSE of the \"No Change\" model.\n",
    "Does any of the models beat the \"No Change\" model? If they do, then by how much?\n",
    "\n"
   ]
  },
  {
   "cell_type": "code",
   "execution_count": null,
   "metadata": {},
   "outputs": [],
   "source": [
    "# the absolute values of the MSE are very small and difficult to compare\n",
    "# report the MSE relative to the MSE of the NoChange Model\n",
    "total = len(model_input) - window_size\n",
    "print(\"{:^10}|{:^20}\".format('Model', 'Relative MSE'))\n",
    "print(f\"{'-'*31}\")\n",
    "[print(f'{model:^10}|{value/error[\"NoChange\"]:^20.6f}')\n",
    " for model, value in error.items()]\n",
    "print(f\"{'-'*31}\")"
   ]
  },
  {
   "cell_type": "markdown",
   "metadata": {},
   "source": [
    "\n",
    "## (OPTIONAL) Exercise 2D\n",
    "\n"
   ]
  },
  {
   "cell_type": "markdown",
   "metadata": {},
   "source": [
    "Compute the MSE and relative MSE for all stocks available to you using the 5 minute data.\n",
    "Use only the stocks for which $T=2769$ days of data are available.\n",
    "Report the results in a table below.\n",
    "Is there a model that is consistently better than other models?\n",
    "How does the No Change model perform overall?\n",
    "What about HARQ1?\n",
    "Compute the average of the MSEs across all stocks, is there a clear winner? If so, by how much?\n",
    "\n"
   ]
  },
  {
   "cell_type": "markdown",
   "metadata": {},
   "source": [
    "\n",
    "# Exercise 3\n",
    "\n"
   ]
  },
  {
   "cell_type": "markdown",
   "metadata": {},
   "source": [
    "In this exercise we will build, train and compute forecast errors from a neural network.\n",
    "In order to compare the neural network model to the previous models, we will use the same rolling window scheme with 1-step ahead quasi-out-of-sample forecasting.\n",
    "Since neural networks take much longer to \"train\" (estimate the parameters), this entire process is quite slow and will take several hours for your computer to finish running. Therefore, it is important to first make sure everything is working for a single window, and then letting the code run for all windows.\n",
    "\n"
   ]
  },
  {
   "cell_type": "markdown",
   "metadata": {},
   "source": [
    "\n",
    "## Exercise 3A\n",
    "\n"
   ]
  },
  {
   "cell_type": "markdown",
   "metadata": {},
   "source": [
    "Use tensorflow to build the graph of a neural network all the way from the input (x) to the output of the model (y).\n",
    "The network should:\n",
    "\n",
    "-   Take as input the same inputs of the HARQ(1) model (1, RV, RVw, RVm, RQ correction);\n",
    "-   Be able to take as many inputs as need be (we can pass in a single row of RVs, or many rows at the same time);\n",
    "-   Have 1 hidden layer, and 2 layers in total:\n",
    "    -   First layer: 5 inputs and 10 outputs (10 signals, use `tf.nn.relu` as the activation function)\n",
    "    -   Second Layer: 10 inputs, 1 output (no activation function)\n",
    "\n"
   ]
  },
  {
   "cell_type": "code",
   "execution_count": null,
   "metadata": {},
   "outputs": [],
   "source": [
    "import tensorflow as tf\n",
    "# get default graph\n",
    "# create model input (x) and model output (x)\n",
    "x = tf.placeholder(tf.float32, [None, 5])\n",
    "y = tf.placeholder(tf.float32, [None, 1])\n",
    "# create hidden layer\n",
    "W1 = ?\n",
    "S1 = ?\n",
    "# create last layer\n",
    "W2 = ?\n",
    "y_model = ?"
   ]
  },
  {
   "cell_type": "markdown",
   "metadata": {},
   "source": [
    "\n",
    "## Exercise 3B\n",
    "\n"
   ]
  },
  {
   "cell_type": "markdown",
   "metadata": {},
   "source": [
    "Given the ouput of the neural network, write the loss function:\n",
    "\n",
    "\\begin{align*}\n",
    "\\text{loss}(y,\\hat{y})=\\frac{1}{n}\\sum_{i=1}^n (y_i-\\hat{y}_i)^2\n",
    "\\end{align*}\n",
    "\n",
    "Also create the optimizer, you can use the Gradient Descent optimizer or `tf.train.AdamOptimizer` which improves upon it:\n",
    "`train_one_step = tf.train.AdamOptimizer().minimize(loss)`.\n",
    "\n"
   ]
  },
  {
   "cell_type": "code",
   "execution_count": null,
   "metadata": {},
   "outputs": [],
   "source": [
    "# create loss function\n",
    "loss = ?\n",
    "# create optimizer\n",
    "train_one_step = tf.train.AdamOptimizer().minimize(loss)"
   ]
  },
  {
   "cell_type": "markdown",
   "metadata": {},
   "source": [
    "\n",
    "## Exercise 3C\n",
    "\n"
   ]
  },
  {
   "cell_type": "markdown",
   "metadata": {},
   "source": [
    "Write a function that trains the neural network for a given window, and then outputs the forecast.\n",
    "To train the network, use Gradient Descent (or Adam) over 50000 epochs.\n",
    "Do not forget to create the initializer for the variables (`tf.Variable`) and initialize them inside the `Session`.\n",
    "\n"
   ]
  },
  {
   "cell_type": "code",
   "execution_count": null,
   "metadata": {},
   "outputs": [],
   "source": [
    "def forecastNN(S, window_size=1000, epochs=50000, columns=5):\n",
    "    # determine window size\n",
    "    window_x = slice(?,?)\n",
    "    window_y = slice(?,?)\n",
    "    with tf.Session() as session:\n",
    "        # initialize variables\n",
    "        session.run(tf.global_variables_initializer())\n",
    "        for i in range(epochs):\n",
    "            # do 1 step on gradient descent\n",
    "            # print MSE every 500 epochs\n",
    "        # model is done training, use it to forecast\n",
    "        y_forecast = ?\n",
    "        return float(y_forecast)"
   ]
  },
  {
   "cell_type": "markdown",
   "metadata": {},
   "source": [
    "\n",
    "## Exercise 3D\n",
    "\n"
   ]
  },
  {
   "cell_type": "markdown",
   "metadata": {},
   "source": [
    "Use the rolling window scheme to compute the MSE for 1-step-ahead forecasts for the entire data.\n",
    "Use a window size of a 1000 days and 50000 epochs to train each model.\n",
    "Report the MSE for the neural network model.\n",
    "\n"
   ]
  },
  {
   "cell_type": "code",
   "execution_count": null,
   "metadata": {},
   "outputs": [],
   "source": [
    "error[\"NN\"] = 0\n",
    "print(\"{:^10}|{:^10}|{:^10}|{:^20}|{:^10}\".format(\n",
    "    \"Window\", \"Forecast\", \"Actual\", \"Cummulative Error\", \"MSE\"))\n",
    "window_size = 1000\n",
    "for S in range(?,?):\n",
    "    y_forecast = forecastNN(S)\n",
    "    # store error\n",
    "    error['NN'] += (model_input[S + 1, 1] - y_forecast)**2\n",
    "    # print message\n",
    "    print(f'{S - window_size:^10}|{float(y_forecast):^10.6f}|{model_input[S + 1, 1]:^10.6f}'\n",
    "          f'|{error[\"NN\"]:^20.6f}|{error[\"NN\"]/(S-window_size+1):^10.6f}')"
   ]
  },
  {
   "cell_type": "markdown",
   "metadata": {},
   "source": [
    "\n",
    "## Exercise 3E\n",
    "\n"
   ]
  },
  {
   "cell_type": "markdown",
   "metadata": {},
   "source": [
    "Extend the tables from Exercise 2B and Exercise 2C with the results from Exercise 3D.\n",
    "Does the neural network model improve the forecast error?\n",
    "If so, why could that be?\n",
    "If not, why not?\n",
    "\n"
   ]
  },
  {
   "cell_type": "markdown",
   "metadata": {},
   "source": [
    "\n",
    "## (OPTIONAL, HARD) Exercise 3F\n",
    "\n"
   ]
  },
  {
   "cell_type": "markdown",
   "metadata": {},
   "source": [
    "Construct the matrix of inputs below:\n",
    "\n",
    "\\begin{align*}\n",
    "\\begin{pmatrix}\n",
    "1 & \\text{RV}_{22} & \\text{RV}_{21} & \\dots & \\text{RV}_{1} & \\widehat{QIV}_{22}^{1/2}\\text{RV}_{22}\\\\\n",
    "1 & \\text{RV}_{23} & \\text{RV}_{22} & \\dots & \\text{RV}_{2} & \\widehat{QIV}_{22}^{1/2}\\text{RV}_{23}\\\\\n",
    "\\vdots & \\vdots\\\\\n",
    "1 & \\text{RV}_{T} & \\text{RV}_{T-1} & \\dots & \\text{RV}_{T-21} & \\widehat{QIV}_{22}^{1/2}\\text{RV}_{T}\n",
    "\\end{pmatrix}\n",
    "\\end{align*}\n",
    "\n",
    "where $T=2769$ is the total number of days.\n",
    "Then, repeat exercises 3A to 3E using the matrix of inputs above instead the inputs of the HARQ(1) model.\n",
    "\n"
   ]
  }
 ],
 "metadata": {
  "kernelspec": {
   "display_name": "Python 3",
   "language": "python",
   "name": "python3"
  },
  "language_info": {
   "codemirror_mode": {
    "name": "ipython",
    "version": 3
   },
   "file_extension": ".py",
   "mimetype": "text/x-python",
   "name": "python",
   "nbconvert_exporter": "python",
   "pygments_lexer": "ipython3",
   "version": "3.6.6"
  },
  "org": null
 },
 "nbformat": 4,
 "nbformat_minor": 1
}
