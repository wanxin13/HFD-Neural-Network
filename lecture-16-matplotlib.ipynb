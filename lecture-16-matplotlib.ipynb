{
 "cells": [
  {
   "cell_type": "markdown",
   "metadata": {},
   "source": [
    "Matplotlib is a library for making plots in Python.\n",
    "It provides a module called `pyplot` which has a plotting interface that is similar to the one found in Matlab.\n",
    "\n"
   ]
  },
  {
   "cell_type": "markdown",
   "metadata": {},
   "source": [
    "\n",
    "# Install\n",
    "\n"
   ]
  },
  {
   "cell_type": "markdown",
   "metadata": {},
   "source": [
    "Matplotlib can be installed with `pip`.\n",
    "After activating your environment in the terminal, run:\n",
    "\n"
   ]
  },
  {
   "cell_type": "code",
   "execution_count": 1,
   "metadata": {},
   "outputs": [
    {
     "name": "stdout",
     "output_type": "stream",
     "text": [
      "\n",
      "The following command must be run outside of the IPython shell:\n",
      "\n",
      "    $ pip install matplotlib\n",
      "\n",
      "The Python package manager (pip) can only be used from outside of IPython.\n",
      "Please reissue the `pip` command in a separate terminal or command prompt.\n",
      "\n",
      "See the Python documentation for more information on how to install packages:\n",
      "\n",
      "    https://docs.python.org/3/installing/\n"
     ]
    }
   ],
   "source": [
    "pip install matplotlib"
   ]
  },
  {
   "cell_type": "markdown",
   "metadata": {},
   "source": [
    "Now `matplotlib` is available for Python and can be imported with:\n",
    "\n"
   ]
  },
  {
   "cell_type": "code",
   "execution_count": 2,
   "metadata": {},
   "outputs": [],
   "source": [
    "import matplotlib"
   ]
  },
  {
   "cell_type": "markdown",
   "metadata": {},
   "source": [
    "All of the Matplotlib functionality can now be accessed via the object `matplotlib`.\n",
    "\n",
    "You will often see the following command being used:\n",
    "\n"
   ]
  },
  {
   "cell_type": "code",
   "execution_count": 2,
   "metadata": {},
   "outputs": [],
   "source": [
    "import matplotlib.pyplot as plt"
   ]
  },
  {
   "cell_type": "markdown",
   "metadata": {},
   "source": [
    "Which makes the `matplotlib.pyplot` functionality available via `plt`.\n",
    "The `plt` functionality is usually what we need for making the majority of plots.\n",
    "\n"
   ]
  },
  {
   "cell_type": "markdown",
   "metadata": {},
   "source": [
    "\n",
    "# Plotting\n",
    "\n"
   ]
  },
  {
   "cell_type": "markdown",
   "metadata": {},
   "source": [
    "We can use Matplotlib to generate plots following a syntax similar to Matlab's plotting facilities.\n",
    "Let's first import the main API for Matplotlib:\n",
    "\n"
   ]
  },
  {
   "cell_type": "code",
   "execution_count": 4,
   "metadata": {},
   "outputs": [],
   "source": [
    "import matplotlib.pyplot as plt"
   ]
  },
  {
   "cell_type": "markdown",
   "metadata": {},
   "source": [
    "Let's generate some fake data to plot:\n",
    "\n"
   ]
  },
  {
   "cell_type": "code",
   "execution_count": 4,
   "metadata": {},
   "outputs": [],
   "source": [
    "import numpy as np\n",
    "noise = np.random.normal(size=(1000, 1))\n",
    "x = np.random.normal(size=(1000, 1)) #1000 by 1\n",
    "beta = np.random.uniform(size=(1, 1))\n",
    "y = x@beta + noise #1000 by 1"
   ]
  },
  {
   "cell_type": "markdown",
   "metadata": {},
   "source": [
    "We will create two types of plots with this data. A line plot, and a scatter plot.\n",
    "In addition, we will use most of the options you may need to use for your own plots.\n",
    "First, a scatter plot of the data:\n",
    "\n"
   ]
  },
  {
   "cell_type": "code",
   "execution_count": 1,
   "metadata": {},
   "outputs": [],
   "source": [
    "fig, ax = plt.subplots(nrows=1, ncols=1, figsize=(12, 6))\n",
    "# actual plot\n",
    "ax.scatter(x, y, color='black', marker='o', alpha=1,\n",
    "           label='Points: $(x,y)$')\n",
    "# add a single point\n",
    "ax.scatter(0, 0, s=50,          # s for marker size\n",
    "           color='red', marker='*',\n",
    "           label='Special Point: $(0,0)$')\n",
    "# add title and labels\n",
    "ax.set(title='Scatter Plot Example',\n",
    "       xlabel='Value of $x$',\n",
    "       ylabel='Value of $y$')\n",
    "# change range of values on axis\n",
    "ax.set_xlim([-6, 6])\n",
    "ax.set_ylim([-10, 10])\n",
    "# add legends\n",
    "ax.legend()\n",
    "# turn on grid\n",
    "ax.grid(True, alpha=0.5)\n",
    "# save figure\n",
    "plt.savefig('scatter-plot.png', dpi=300)\n",
    "# close figure\n",
    "plt.close(fig)\n",
    "fig.show()"
   ]
  },
  {
   "cell_type": "markdown",
   "metadata": {},
   "source": [
    "Notice the use of `$ $` on labels.\n",
    "Matplotlib understands Latex expressions without the need of any other adjustment.\n",
    "\n",
    "Second, a line plot of the data:\n",
    "\n"
   ]
  },
  {
   "cell_type": "code",
   "execution_count": 1,
   "metadata": {},
   "outputs": [],
   "source": [
    "fig, ax = plt.subplots(nrows=1, ncols=1, figsize=(12, 6))\n",
    "# actual plot\n",
    "ax.plot(x, y, color='black', alpha=1, label='Points: $(x,y)$')\n",
    "# add title and labels\n",
    "ax.set(title='Scatter Plot Example',\n",
    "       xlabel='Value of $x$',\n",
    "       ylabel='Value of $y$')\n",
    "# change range of values on axis\n",
    "ax.set_xlim([-6, 6])\n",
    "ax.set_ylim([-10, 10])\n",
    "# add legends\n",
    "ax.legend()\n",
    "# turn on grid\n",
    "ax.grid(True, alpha=0.5)\n",
    "# save figure\n",
    "plt.savefig('line-plot.png', dpi=300)\n",
    "# close figure\n",
    "plt.close(fig)"
   ]
  },
  {
   "cell_type": "markdown",
   "metadata": {},
   "source": [
    "Both plots in a single figure:\n",
    "\n"
   ]
  },
  {
   "cell_type": "code",
   "execution_count": 5,
   "metadata": {},
   "outputs": [],
   "source": [
    "fig, ax = plt.subplots(nrows=2, ncols=1, figsize=(12, 14))  #ax is a list \n",
    "# == first plot: scatter ==\n",
    "ax[0].scatter(x, y, color='black', marker='o', alpha=1,\n",
    "              label='Points: $(x,y)$')\n",
    "# add a single point\n",
    "ax[0].scatter(0, 0, s=50,          # s for marker size\n",
    "              color='red', marker='*',\n",
    "              label='Special Point: $(0,0)$')\n",
    "# add title and labels\n",
    "ax[0].set(title='Scatter Plot Example',\n",
    "          xlabel='Value of $x$',\n",
    "          ylabel='Value of $y$')\n",
    "# change range of values on axis\n",
    "ax[0].set_xlim([-6, 6])\n",
    "ax[0].set_ylim([-10, 10])\n",
    "\n",
    "# == second plot: line ==\n",
    "ax[1].plot(x, y, color='black', alpha=1, label='Points: $(x,y)$')\n",
    "# add title and labels\n",
    "ax[1].set(title='Scatter Plot Example',\n",
    "       xlabel='Value of $x$',\n",
    "       ylabel='Value of $y$')\n",
    "# change range of values on axis\n",
    "ax[1].set_xlim([-6, 6])\n",
    "ax[1].set_ylim([-10, 10])\n",
    "\n",
    "# == common configurations ==\n",
    "for axis in ax:\n",
    "    # add legends\n",
    "    axis.legend()\n",
    "    # turn on grid\n",
    "    axis.grid(True, alpha=0.5)\n",
    "\n",
    "# == save figure ==\n",
    "plt.savefig('two-plots.png', dpi=300)\n",
    "# close figure\n",
    "plt.close(fig)"
   ]
  },
  {
   "cell_type": "markdown",
   "metadata": {},
   "source": [
    "Notice the change in the `nrows` option and in the `figsize` so that both plots have space in the rendered figure.\n",
    "\n"
   ]
  }
 ],
 "metadata": {
  "kernelspec": {
   "display_name": "Python 3",
   "language": "python",
   "name": "python3"
  },
  "language_info": {
   "codemirror_mode": {
    "name": "ipython",
    "version": 3
   },
   "file_extension": ".py",
   "mimetype": "text/x-python",
   "name": "python",
   "nbconvert_exporter": "python",
   "pygments_lexer": "ipython3",
   "version": "3.6.6"
  },
  "org": null
 },
 "nbformat": 4,
 "nbformat_minor": 1
}
