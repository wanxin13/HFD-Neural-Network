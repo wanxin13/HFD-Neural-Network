{
 "cells": [
  {
   "cell_type": "markdown",
   "metadata": {},
   "source": [
    "Python is a programming language that is widely used and uses a syntax that allows for quick development of software.\n",
    "In our case, we are interested in estimating a neural network for forecasting variance, and an incredibly powerful library for such task is available for Python.\n",
    "Python is also useful as a general programming language and can also tackle problems other than scientific computing.\n",
    "\n"
   ]
  },
  {
   "cell_type": "markdown",
   "metadata": {},
   "source": [
    "\n",
    "    # Interacting with Python\n",
    "\n"
   ]
  },
  {
   "cell_type": "code",
   "execution_count": 1,
   "metadata": {},
   "outputs": [
    {
     "name": "stdout",
     "output_type": "stream",
     "text": [
      "hello world\n"
     ]
    }
   ],
   "source": [
    "print(\"hello world\")\n",
    "\n",
    "\n"
   ]
  },
  {
   "cell_type": "markdown",
   "metadata": {},
   "source": []
  },
  {
   "cell_type": "markdown",
   "metadata": {},
   "source": [
    "There are two ways to execute Python scripts.\n",
    "First, you write a `.py` file and run it in a terminal with `python3 myfile.py`.\n",
    "Second, you execute the Python commands line by line in the Python REPL (read-eval-print-loop).\n",
    "To open the Python REPL simply type `python3` in the terminal. You can quit Python by running `exit()` or with Control-D.\n",
    "In the Jupyter notebook you are interacting with a REPL, each cell you execute sends the commands to the interpreter, which then executes and prints outputs and then waits for more commands.\n",
    "\n"
   ]
  },
  {
   "cell_type": "markdown",
   "metadata": {},
   "source": [
    "\n",
    "# Built-In Types and Functions\n",
    "\n"
   ]
  },
  {
   "cell_type": "markdown",
   "metadata": {},
   "source": [
    "The main data types that are built-in Python are:\n",
    "\n",
    "-   Numerics: hold different types of numbers (integers, floats and complex numbers);\n",
    "-   Text: hold characters and strings (string);\n",
    "-   Boolean: used to test conditions (bool, True, False);\n",
    "-   Sequences: list of elements where order matters (list, tuple and range);\n",
    "-   Sets: list of distinct objects where order is not important (set, frozenset);\n",
    "-   Mapping: maps keys to values (dictionary);\n",
    "-   Objects: represents all data in Python (class)\n",
    "-   Exceptions: represents errors in Python\n",
    "\n",
    "All of the built-in types are fully described [here](https://docs.python.org/3.6/library/stdtypes.html). We will cover most of them. There are also many built-in functions, which are described [here](https://docs.python.org/3.6/library/functions.html), and we will cover some of them as we go.\n",
    "\n"
   ]
  },
  {
   "cell_type": "markdown",
   "metadata": {},
   "source": [
    "\n",
    "## Numerics\n",
    "\n"
   ]
  },
  {
   "cell_type": "markdown",
   "metadata": {},
   "source": [
    "Numbers are separated into three different types: int, float and complex.\n",
    "Integers can be as big as required, as long as you have free memory available.\n",
    "To create an integer and assign it to a variable:\n",
    "\n"
   ]
  },
  {
   "cell_type": "code",
   "execution_count": 3,
   "metadata": {},
   "outputs": [
    {
     "name": "stdout",
     "output_type": "stream",
     "text": [
      "type(an_integer)\n",
      "<class 'int'>\n"
     ]
    }
   ],
   "source": [
    "an_integer = 3005\n",
    "print(\"type(an_integer)\")\n",
    "print(type(an_integer))\n"
   ]
  },
  {
   "cell_type": "markdown",
   "metadata": {},
   "source": [
    "We can check the size of these integers (in bytes) with a helper function from the `sys` module (more on modules later):\n",
    "\n"
   ]
  },
  {
   "cell_type": "code",
   "execution_count": 5,
   "metadata": {},
   "outputs": [
    {
     "name": "stdout",
     "output_type": "stream",
     "text": [
      "Help on built-in function getsizeof in module sys:\n",
      "\n",
      "getsizeof(...)\n",
      "    getsizeof(object, default) -> int\n",
      "    \n",
      "    Return the size of object in bytes.\n",
      "\n"
     ]
    },
    {
     "data": {
      "text/plain": [
       "28"
      ]
     },
     "execution_count": 5,
     "metadata": {},
     "output_type": "execute_result"
    }
   ],
   "source": [
    "import sys\n",
    "help(sys.getsizeof)\n",
    "sys.getsizeof(an_integer)"
   ]
  },
  {
   "cell_type": "markdown",
   "metadata": {},
   "source": [
    "The number of bytes assigned to the variable changes as the integer increases.\n",
    "\n",
    "Floating point numbers have a different implementation that varies by operating system, but usually is equivalent to a double type in C (8 bytes).\n",
    "To create a float:\n",
    "\n"
   ]
  },
  {
   "cell_type": "code",
   "execution_count": 6,
   "metadata": {},
   "outputs": [
    {
     "name": "stdout",
     "output_type": "stream",
     "text": [
      "<class 'float'>\n",
      "24\n"
     ]
    }
   ],
   "source": [
    "a_float = 3.1415\n",
    "print(type(a_float))\n",
    "print(sys.getsizeof(a_float))"
   ]
  },
  {
   "cell_type": "markdown",
   "metadata": {},
   "source": [
    "We can see the details of the float implementation with another helper function:\n",
    "\n"
   ]
  },
  {
   "cell_type": "code",
   "execution_count": 1,
   "metadata": {},
   "outputs": [],
   "source": []
  },
  {
   "cell_type": "markdown",
   "metadata": {},
   "source": [
    "The details of the function `sys.float_info` can be found [here](https://docs.python.org/3.6/library/sys.html#sys.float_info).\n",
    "\n",
    "To create complex numbers:\n",
    "\n"
   ]
  },
  {
   "cell_type": "code",
   "execution_count": 7,
   "metadata": {},
   "outputs": [
    {
     "name": "stdout",
     "output_type": "stream",
     "text": [
      "(2+3j)\n"
     ]
    }
   ],
   "source": [
    "complex_number = 2+3j\n",
    "print(complex_number)"
   ]
  },
  {
   "cell_type": "markdown",
   "metadata": {},
   "source": [
    "The real and imaginary parts of a complex number are each stored as floating point numbers.\n",
    "\n",
    "The integers and floats support the usual mathematical operations.\n",
    "\n"
   ]
  },
  {
   "cell_type": "code",
   "execution_count": 11,
   "metadata": {},
   "outputs": [
    {
     "name": "stdout",
     "output_type": "stream",
     "text": [
      "5.5\n",
      "5\n",
      "1\n",
      "121\n"
     ]
    }
   ],
   "source": [
    "x =11\n",
    "y = 2\n",
    "print(x/y) #float division\n",
    "print(x//y)#integer division\n",
    "print(x%y)\n",
    "print(x**2)"
   ]
  },
  {
   "cell_type": "markdown",
   "metadata": {},
   "source": [
    "Some of the operations will make implicit conversions from integers to floats or the other way around.\n",
    "We can check the type of a variable with the built-in function `type`.\n",
    "\n"
   ]
  },
  {
   "cell_type": "code",
   "execution_count": 1,
   "metadata": {},
   "outputs": [],
   "source": []
  },
  {
   "cell_type": "markdown",
   "metadata": {},
   "source": [
    "We can convert between integers and floats by calling the constructor functions `int` and `float`:\n",
    "\n"
   ]
  },
  {
   "cell_type": "code",
   "execution_count": 13,
   "metadata": {},
   "outputs": [
    {
     "data": {
      "text/plain": [
       "20"
      ]
     },
     "execution_count": 13,
     "metadata": {},
     "output_type": "execute_result"
    }
   ],
   "source": [
    "float(x)\n",
    "s = 20.9\n",
    "int(s)"
   ]
  },
  {
   "cell_type": "markdown",
   "metadata": {},
   "source": [
    "\n",
    "## Text\n",
    "\n"
   ]
  },
  {
   "cell_type": "markdown",
   "metadata": {},
   "source": [
    "Textual data in Python is stored in classes of type `str`.\n",
    "We can create strings by:\n",
    "\n"
   ]
  },
  {
   "cell_type": "code",
   "execution_count": 16,
   "metadata": {},
   "outputs": [
    {
     "name": "stdout",
     "output_type": "stream",
     "text": [
      "wanxin 55\n",
      "my name is\"Chen\"\n"
     ]
    }
   ],
   "source": [
    "first_name = \"wanxin\"\n",
    "print(first_name,sys.getsizeof(first_name))\n",
    "more_string = 'my name is\"Chen\"'\n",
    "moreline = '''dgdg\n",
    "hi'''"
   ]
  },
  {
   "cell_type": "markdown",
   "metadata": {},
   "source": [
    "Strings have an implicit join when they are part of a single expression:\n",
    "\n"
   ]
  },
  {
   "cell_type": "code",
   "execution_count": 17,
   "metadata": {},
   "outputs": [
    {
     "name": "stdout",
     "output_type": "stream",
     "text": [
      "wanxin chen\n"
     ]
    }
   ],
   "source": [
    "complete_name = (\"wanxin\"\" \"\"chen\")\n",
    "print(complete_name)"
   ]
  },
  {
   "cell_type": "markdown",
   "metadata": {},
   "source": [
    "Strings cannot be changed after they were created. That is, if we try to change a letter in a string we will get an error:\n",
    "\n"
   ]
  },
  {
   "cell_type": "code",
   "execution_count": 18,
   "metadata": {},
   "outputs": [
    {
     "name": "stdout",
     "output_type": "stream",
     "text": [
      "x =11\n"
     ]
    }
   ],
   "source": [
    "multi = x\n",
    "print(\"x =\"+str(multi))"
   ]
  },
  {
   "cell_type": "markdown",
   "metadata": {},
   "source": [
    "Strings can be concatenated using the `+` operation.\n",
    "This is useful for printing numbers after conversion.\n",
    "We can convert numbers to strings by using the constructor `str`.\n",
    "\n"
   ]
  },
  {
   "cell_type": "code",
   "execution_count": 1,
   "metadata": {},
   "outputs": [],
   "source": []
  },
  {
   "cell_type": "markdown",
   "metadata": {},
   "source": [
    "Strings implement a multitude of methods.\n",
    "Remember that strings are immutable, so the methods below all return a string and do not modify the string itself. Let's see:\n",
    "\n"
   ]
  },
  {
   "cell_type": "code",
   "execution_count": 22,
   "metadata": {
    "scrolled": true
   },
   "outputs": [
    {
     "name": "stdout",
     "output_type": "stream",
     "text": [
      "Wanxin WANXIN\n"
     ]
    },
    {
     "data": {
      "text/plain": [
       "['__add__',\n",
       " '__class__',\n",
       " '__contains__',\n",
       " '__delattr__',\n",
       " '__dir__',\n",
       " '__doc__',\n",
       " '__eq__',\n",
       " '__format__',\n",
       " '__ge__',\n",
       " '__getattribute__',\n",
       " '__getitem__',\n",
       " '__getnewargs__',\n",
       " '__gt__',\n",
       " '__hash__',\n",
       " '__init__',\n",
       " '__init_subclass__',\n",
       " '__iter__',\n",
       " '__le__',\n",
       " '__len__',\n",
       " '__lt__',\n",
       " '__mod__',\n",
       " '__mul__',\n",
       " '__ne__',\n",
       " '__new__',\n",
       " '__reduce__',\n",
       " '__reduce_ex__',\n",
       " '__repr__',\n",
       " '__rmod__',\n",
       " '__rmul__',\n",
       " '__setattr__',\n",
       " '__sizeof__',\n",
       " '__str__',\n",
       " '__subclasshook__',\n",
       " 'capitalize',\n",
       " 'casefold',\n",
       " 'center',\n",
       " 'count',\n",
       " 'encode',\n",
       " 'endswith',\n",
       " 'expandtabs',\n",
       " 'find',\n",
       " 'format',\n",
       " 'format_map',\n",
       " 'index',\n",
       " 'isalnum',\n",
       " 'isalpha',\n",
       " 'isdecimal',\n",
       " 'isdigit',\n",
       " 'isidentifier',\n",
       " 'islower',\n",
       " 'isnumeric',\n",
       " 'isprintable',\n",
       " 'isspace',\n",
       " 'istitle',\n",
       " 'isupper',\n",
       " 'join',\n",
       " 'ljust',\n",
       " 'lower',\n",
       " 'lstrip',\n",
       " 'maketrans',\n",
       " 'partition',\n",
       " 'replace',\n",
       " 'rfind',\n",
       " 'rindex',\n",
       " 'rjust',\n",
       " 'rpartition',\n",
       " 'rsplit',\n",
       " 'rstrip',\n",
       " 'split',\n",
       " 'splitlines',\n",
       " 'startswith',\n",
       " 'strip',\n",
       " 'swapcase',\n",
       " 'title',\n",
       " 'translate',\n",
       " 'upper',\n",
       " 'zfill']"
      ]
     },
     "execution_count": 22,
     "metadata": {},
     "output_type": "execute_result"
    }
   ],
   "source": [
    "first_name = 'wanxin'\n",
    "print(first_name.capitalize(), first_name.upper())\n",
    "\n",
    "dir(\"\")\n"
   ]
  },
  {
   "cell_type": "code",
   "execution_count": 25,
   "metadata": {},
   "outputs": [
    {
     "name": "stdout",
     "output_type": "stream",
     "text": [
      "anxin\n"
     ]
    }
   ],
   "source": [
    "first_name = \"    wanxin\"\n",
    "print(first_name.strip(' w'))"
   ]
  },
  {
   "cell_type": "markdown",
   "metadata": {},
   "source": [
    "We will use other methods after we talk about sequences and booleans.\n",
    "A complete list of the string methods is available [here](https://docs.python.org/3.6/library/stdtypes.html#string-methods).\n",
    "\n"
   ]
  },
  {
   "cell_type": "code",
   "execution_count": null,
   "metadata": {},
   "outputs": [],
   "source": []
  },
  {
   "cell_type": "markdown",
   "metadata": {},
   "source": [
    "\n",
    "## Boolean\n",
    "\n"
   ]
  },
  {
   "cell_type": "markdown",
   "metadata": {},
   "source": [
    "There are two boolean values: `True` and `False`.\n",
    "The booleans are a subclass of integers, and, in some contexts, the integers $1$ and $0$ represent the booleans `True` and `False`.\n",
    "\n",
    "We can obtain booleans via comparisons. There are 8 types of comparisons in Python:\n",
    "\n"
   ]
  },
  {
   "cell_type": "code",
   "execution_count": 28,
   "metadata": {},
   "outputs": [
    {
     "data": {
      "text/plain": [
       "bool"
      ]
     },
     "execution_count": 28,
     "metadata": {},
     "output_type": "execute_result"
    }
   ],
   "source": [
    "True\n",
    "type(True)"
   ]
  },
  {
   "cell_type": "markdown",
   "metadata": {},
   "source": [
    "Booleans support the operations: `and`, `or` and `not`.\n",
    "\n"
   ]
  },
  {
   "cell_type": "code",
   "execution_count": 35,
   "metadata": {},
   "outputs": [
    {
     "name": "stdout",
     "output_type": "stream",
     "text": [
      "False True\n",
      "False\n",
      "False\n"
     ]
    }
   ],
   "source": [
    "print(1>1,1>=1)\n",
    "print(1 != 1)\n",
    "print((1>0) and (1==2))\n"
   ]
  },
  {
   "cell_type": "markdown",
   "metadata": {},
   "source": [
    "The built-in function `bool` can convert <span class=\"underline\">any</span> value to a boolean.\n",
    "\n"
   ]
  },
  {
   "cell_type": "code",
   "execution_count": 34,
   "metadata": {},
   "outputs": [
    {
     "name": "stdout",
     "output_type": "stream",
     "text": [
      "True\n"
     ]
    }
   ],
   "source": [
    "print(bool('wanxin'))"
   ]
  },
  {
   "cell_type": "markdown",
   "metadata": {},
   "source": [
    "When we use the function `bool` Python evaluates whether the input of the function is associated with False or True.\n",
    "The most common objects that will lead to a `False` value are:\n",
    "\n",
    "-   Constants that are False by definition: `False` and `None`\n",
    "-   Numbers that are zero: 0, 0.0, 0j\n",
    "-   Empty sequences: `''`, `()`, `[]`, `{}`\n",
    "\n",
    "Other objects that are non-empty will lead to a value of `True`.\n",
    "\n"
   ]
  },
  {
   "cell_type": "markdown",
   "metadata": {},
   "source": [
    "\n",
    "## Sequences\n",
    "\n"
   ]
  },
  {
   "cell_type": "markdown",
   "metadata": {},
   "source": [
    "Sequences define a sequence of objects where the order of the objects is kept.\n",
    "There are three basic types: `list`, `tuple`, `range`.\n",
    "A `list` can hold any number of elements and types of objects:\n",
    "\n"
   ]
  },
  {
   "cell_type": "code",
   "execution_count": 36,
   "metadata": {},
   "outputs": [
    {
     "name": "stdout",
     "output_type": "stream",
     "text": [
      "[1, 2, 2, 5]\n"
     ]
    }
   ],
   "source": [
    "list_of_numbers = [1,2,2,5]\n",
    "print(list_of_numbers)"
   ]
  },
  {
   "cell_type": "markdown",
   "metadata": {},
   "source": [
    "Elements of the list can be accessed by index.\n",
    "The index of a list starts at $0$.\n",
    "\n"
   ]
  },
  {
   "cell_type": "code",
   "execution_count": 39,
   "metadata": {},
   "outputs": [
    {
     "data": {
      "text/plain": [
       "5"
      ]
     },
     "execution_count": 39,
     "metadata": {},
     "output_type": "execute_result"
    }
   ],
   "source": [
    "list_of_numbers[0] #first\n",
    "list_of_numbers[-1] #last element"
   ]
  },
  {
   "cell_type": "markdown",
   "metadata": {},
   "source": [
    "The built-in function `len` gives the length of a list:\n",
    "\n"
   ]
  },
  {
   "cell_type": "code",
   "execution_count": 42,
   "metadata": {},
   "outputs": [
    {
     "name": "stdout",
     "output_type": "stream",
     "text": [
      "4\n",
      "8\n"
     ]
    }
   ],
   "source": [
    "print(len(list_of_numbers))\n",
    "print(len('students'))\n"
   ]
  },
  {
   "cell_type": "markdown",
   "metadata": {},
   "source": [
    "Notice that a string is backed up by a list, so it shares some of its methods and returns the number of characters when `len` is called on a string.\n",
    "\n",
    "Because indices start at 0 and not at 1, the last index of a list is given by the length of such list minus 1.\n",
    "The last element of a list can also be accessed via the index `-1` (equivalent of Matlab's `end`):\n",
    "\n"
   ]
  },
  {
   "cell_type": "code",
   "execution_count": 1,
   "metadata": {},
   "outputs": [],
   "source": []
  },
  {
   "cell_type": "markdown",
   "metadata": {},
   "source": [
    "Elements of a list can be modified:\n",
    "\n"
   ]
  },
  {
   "cell_type": "code",
   "execution_count": 45,
   "metadata": {},
   "outputs": [
    {
     "name": "stdout",
     "output_type": "stream",
     "text": [
      "[0, 1, 2, 3, 4, 1000]\n",
      "[-1000, 1, 2, 3, 4, 1000]\n",
      "['b', 't', 'u', 'd', 'e', 'n', 't', 's']\n"
     ]
    }
   ],
   "source": [
    "a = [0,1,2,3,4,1000]\n",
    "print(a)\n",
    "a[0]= -1000\n",
    "print(a)\n",
    "b = list('students')\n",
    "b[0] = 'b'\n",
    "print(b)"
   ]
  },
  {
   "cell_type": "markdown",
   "metadata": {},
   "source": [
    "A list can be extended:\n",
    "\n"
   ]
  },
  {
   "cell_type": "code",
   "execution_count": 52,
   "metadata": {},
   "outputs": [
    {
     "name": "stdout",
     "output_type": "stream",
     "text": [
      "['a', 'b', 'f']\n",
      "['a', 'aaa', 'b', 'f']\n",
      "['a', 'aaa', 'b']\n",
      "['aaa', 'b']\n"
     ]
    }
   ],
   "source": [
    "a = ['a','b']\n",
    "a.append('f') #put ot in the end\n",
    "print(a)\n",
    "a.insert(1,'aaa') #slow\n",
    "print(a)\n",
    "a.pop() #delete last element\n",
    "print(a)\n",
    "del a[0]\n",
    "print(a)"
   ]
  },
  {
   "cell_type": "markdown",
   "metadata": {},
   "source": [
    "It is important to note that adding elements to the beginning of a list or at a random location inside the list is slow. Appending at the end of the list is much faster.\n",
    "\n",
    "A list can be shrunk:\n",
    "\n"
   ]
  },
  {
   "cell_type": "code",
   "execution_count": 53,
   "metadata": {},
   "outputs": [
    {
     "name": "stdout",
     "output_type": "stream",
     "text": [
      "<class 'tuple'>\n"
     ]
    }
   ],
   "source": [
    "a = ('a','b','c')\n",
    "print(type(a))"
   ]
  },
  {
   "cell_type": "markdown",
   "metadata": {},
   "source": [
    "A `tuple` is also a sequence, but it is a sequence that cannot be modified after it is created.\n",
    "\n"
   ]
  },
  {
   "cell_type": "code",
   "execution_count": 1,
   "metadata": {},
   "outputs": [],
   "source": [
    "#efficient but no change"
   ]
  },
  {
   "cell_type": "markdown",
   "metadata": {},
   "source": [
    "Tuples are more efficient that lists since they occupy less bytes.\n",
    "Tuples are used when you want to fix a sequence of values that should not be changed.\n",
    "\n",
    "A `range` constructs a sequence of numbers and is often used for looping a specific number of times in a loop.\n",
    "\n"
   ]
  },
  {
   "cell_type": "code",
   "execution_count": 56,
   "metadata": {},
   "outputs": [
    {
     "name": "stdout",
     "output_type": "stream",
     "text": [
      "[0, 1, 2, 3, 4, 5, 6, 7, 8, 9]\n",
      "[-5, -2, 1, 4, 7, 10, 13, 16, 19]\n"
     ]
    }
   ],
   "source": [
    "print(list(range(0,10)))\n",
    "print(list(range(-5,20,3)))"
   ]
  },
  {
   "cell_type": "markdown",
   "metadata": {},
   "source": [
    "It is important to know that all functions that return a list of numbers in Python exclude the last number from the list. For example `range(5)` returns a list with the numbers `0,1,2,3,4`. This is because lists start in the index 0, so the last index of a list with $5$ elements is the index $4$.\n",
    "This contrasts with lists in Matlab which start at index $1$, but is a small change that is more natural to programming and is the default in most of the programming languages.\n",
    "\n"
   ]
  },
  {
   "cell_type": "markdown",
   "metadata": {},
   "source": [
    "\n",
    "## Sets\n",
    "\n"
   ]
  },
  {
   "cell_type": "markdown",
   "metadata": {},
   "source": [
    "A `set` is a list of <span class=\"underline\">distinct</span> objects without a specific order (unordered collection).\n",
    "To create a set we pass a list of elements to the `set` function:\n",
    "\n"
   ]
  },
  {
   "cell_type": "code",
   "execution_count": 57,
   "metadata": {},
   "outputs": [
    {
     "name": "stdout",
     "output_type": "stream",
     "text": [
      "{'c', 'b', 'a'}\n"
     ]
    }
   ],
   "source": [
    "students = set(['a','b','c'])\n",
    "print(students)"
   ]
  },
  {
   "cell_type": "markdown",
   "metadata": {},
   "source": [
    "Notice that the elements in a set are all unique. Indeed, `set` is an implementation of a mathematical set:\n",
    "\n"
   ]
  },
  {
   "cell_type": "code",
   "execution_count": 58,
   "metadata": {},
   "outputs": [
    {
     "name": "stdout",
     "output_type": "stream",
     "text": [
      "{'wanxin', 'c', 'b', 'a'}\n",
      "{'wanxin', 'c', 'b'}\n"
     ]
    }
   ],
   "source": [
    "students.add('wanxin')\n",
    "print(students)\n",
    "students.discard('a')\n",
    "print(students)"
   ]
  },
  {
   "cell_type": "markdown",
   "metadata": {},
   "source": [
    "A `set` can be extended and its elements can be removed:\n",
    "\n"
   ]
  },
  {
   "cell_type": "code",
   "execution_count": 1,
   "metadata": {},
   "outputs": [],
   "source": []
  },
  {
   "cell_type": "markdown",
   "metadata": {},
   "source": [
    "We can find how many elements are in a set with `len`.\n",
    "\n"
   ]
  },
  {
   "cell_type": "code",
   "execution_count": 1,
   "metadata": {},
   "outputs": [],
   "source": []
  },
  {
   "cell_type": "markdown",
   "metadata": {},
   "source": [
    "As the implementation of a mathematical set, we can take unions, intersections and differences. We can also check if an element is in a set.\n",
    "\n"
   ]
  },
  {
   "cell_type": "code",
   "execution_count": 59,
   "metadata": {},
   "outputs": [
    {
     "name": "stdout",
     "output_type": "stream",
     "text": [
      "{'wanxin', 3, 4, 'b', 5, 'c'}\n"
     ]
    }
   ],
   "source": [
    "new_set = students.union(set([3,4,5]))\n",
    "print(new_set)"
   ]
  },
  {
   "cell_type": "markdown",
   "metadata": {},
   "source": [
    "Other operations are described [here](https://docs.python.org/3.6/library/stdtypes.html#set).\n",
    "\n",
    "A `frozenset` is similar to a `set` but is an immutable collection.\n",
    "\n"
   ]
  },
  {
   "cell_type": "code",
   "execution_count": 61,
   "metadata": {},
   "outputs": [
    {
     "name": "stdout",
     "output_type": "stream",
     "text": [
      "frozenset({'b', 'a'})\n"
     ]
    }
   ],
   "source": [
    "a = frozenset(['a','b'])\n",
    "print(a)"
   ]
  },
  {
   "cell_type": "markdown",
   "metadata": {},
   "source": [
    "\n",
    "## Mapping\n",
    "\n"
   ]
  },
  {
   "cell_type": "markdown",
   "metadata": {},
   "source": [
    "A mapping is an object that associates names (keys) to values (any object).\n",
    "The standard implementation of a mapping in Python is a dictionary: `dict`.\n",
    "A dictionary can be created by giving the `dict` constructor a list of `key:value` pairs:\n",
    "\n"
   ]
  },
  {
   "cell_type": "code",
   "execution_count": 64,
   "metadata": {},
   "outputs": [
    {
     "name": "stdout",
     "output_type": "stream",
     "text": [
      "{'A': 10, 'B': 7, 'C': 9}\n",
      "10\n",
      "{'A': 'cheated', 'B': 7, 'C': 9}\n"
     ]
    }
   ],
   "source": [
    "grades = {'A':10,'B':7,'C':9}\n",
    "print(grades)\n",
    "print(grades['A'])\n",
    "grades['A'] = 'cheated'\n",
    "print(grades)"
   ]
  },
  {
   "cell_type": "markdown",
   "metadata": {},
   "source": [
    "Dictionaries can be modified, its elements can be removed, new elements can be added, and existing elements can be updated.\n",
    "\n"
   ]
  },
  {
   "cell_type": "code",
   "execution_count": 67,
   "metadata": {},
   "outputs": [
    {
     "name": "stdout",
     "output_type": "stream",
     "text": [
      "{'A': 'cheated', 'B': 7, 'C': 9}\n",
      "['A', 'B', 'C']\n",
      "['cheated', 7, 9]\n",
      "[('A', 'cheated'), ('B', 7), ('C', 9)]\n",
      "cheated\n"
     ]
    }
   ],
   "source": [
    "print(grades)\n",
    "print(list(grades.keys()))\n",
    "print(list(grades.values()))\n",
    "print(list(grades.items()))\n",
    "a = list(grades.items())\n",
    "print(a[0][1])\n",
    "          "
   ]
  },
  {
   "cell_type": "markdown",
   "metadata": {},
   "source": [
    "We can recover (as a list) all of the keys of a dictionary, all of its values, and all of the `key:value` pairs:\n",
    "\n"
   ]
  },
  {
   "cell_type": "code",
   "execution_count": 1,
   "metadata": {},
   "outputs": [],
   "source": []
  },
  {
   "cell_type": "markdown",
   "metadata": {},
   "source": [
    "Other of the methods are described [here](https://docs.python.org/3.6/library/stdtypes.html#dict).\n",
    "\n"
   ]
  },
  {
   "cell_type": "markdown",
   "metadata": {},
   "source": [
    "\n",
    "## Objects\n",
    "\n"
   ]
  },
  {
   "cell_type": "markdown",
   "metadata": {},
   "source": [
    "Objects are the core of everything in Python. In fact, every data in Python is represented by an object. All of the basic types we studied so far are types. That is why when we call `type(1)`, for example, we get back `<class 'int'>`. This means the number 1 is an object of the class int.\n",
    "\n",
    "Every object in Python has: an identity, a type and a value.\n",
    "This means every single variable we declare in our scripts will have an identity, a type and a value, since everything in Python is an object, no exceptions.\n",
    "\n",
    "The <span class=\"underline\">identity</span> of an object is a value that never changes after it was created, it is like the address of an object in the computer's memory.\n",
    "The comparison operator `is` compares the identity of two objects.\n",
    "\n"
   ]
  },
  {
   "cell_type": "code",
   "execution_count": 1,
   "metadata": {},
   "outputs": [],
   "source": []
  },
  {
   "cell_type": "markdown",
   "metadata": {},
   "source": [
    "We can get the identity of an object with `id` function (a function is also an object in Python):\n",
    "\n"
   ]
  },
  {
   "cell_type": "code",
   "execution_count": 1,
   "metadata": {},
   "outputs": [],
   "source": []
  },
  {
   "cell_type": "markdown",
   "metadata": {},
   "source": [
    "The <span class=\"underline\">type</span> of an object determines what functions it supports, it represents the object's definition. The type of an object cannot be changed. As we have seen before, we can discover the type of an object with the `type` function.\n",
    "\n"
   ]
  },
  {
   "cell_type": "code",
   "execution_count": 1,
   "metadata": {},
   "outputs": [],
   "source": []
  },
  {
   "cell_type": "markdown",
   "metadata": {},
   "source": [
    "The <span class=\"underline\">value</span> of an object may be mutable or immutable, like lists and tuples.\n",
    "\n",
    "The built-in functions `dir` and `help` can be used to inspect the methods of an object, and to get help on those methods:\n",
    "\n"
   ]
  },
  {
   "cell_type": "code",
   "execution_count": 2,
   "metadata": {},
   "outputs": [
    {
     "data": {
      "text/plain": [
       "['__abs__',\n",
       " '__add__',\n",
       " '__and__',\n",
       " '__bool__',\n",
       " '__ceil__',\n",
       " '__class__',\n",
       " '__delattr__',\n",
       " '__dir__',\n",
       " '__divmod__',\n",
       " '__doc__',\n",
       " '__eq__',\n",
       " '__float__',\n",
       " '__floor__',\n",
       " '__floordiv__',\n",
       " '__format__',\n",
       " '__ge__',\n",
       " '__getattribute__',\n",
       " '__getnewargs__',\n",
       " '__gt__',\n",
       " '__hash__',\n",
       " '__index__',\n",
       " '__init__',\n",
       " '__init_subclass__',\n",
       " '__int__',\n",
       " '__invert__',\n",
       " '__le__',\n",
       " '__lshift__',\n",
       " '__lt__',\n",
       " '__mod__',\n",
       " '__mul__',\n",
       " '__ne__',\n",
       " '__neg__',\n",
       " '__new__',\n",
       " '__or__',\n",
       " '__pos__',\n",
       " '__pow__',\n",
       " '__radd__',\n",
       " '__rand__',\n",
       " '__rdivmod__',\n",
       " '__reduce__',\n",
       " '__reduce_ex__',\n",
       " '__repr__',\n",
       " '__rfloordiv__',\n",
       " '__rlshift__',\n",
       " '__rmod__',\n",
       " '__rmul__',\n",
       " '__ror__',\n",
       " '__round__',\n",
       " '__rpow__',\n",
       " '__rrshift__',\n",
       " '__rshift__',\n",
       " '__rsub__',\n",
       " '__rtruediv__',\n",
       " '__rxor__',\n",
       " '__setattr__',\n",
       " '__sizeof__',\n",
       " '__str__',\n",
       " '__sub__',\n",
       " '__subclasshook__',\n",
       " '__truediv__',\n",
       " '__trunc__',\n",
       " '__xor__',\n",
       " 'bit_length',\n",
       " 'conjugate',\n",
       " 'denominator',\n",
       " 'from_bytes',\n",
       " 'imag',\n",
       " 'numerator',\n",
       " 'real',\n",
       " 'to_bytes']"
      ]
     },
     "execution_count": 2,
     "metadata": {},
     "output_type": "execute_result"
    }
   ],
   "source": [
    "dir(int)"
   ]
  },
  {
   "cell_type": "markdown",
   "metadata": {},
   "source": [
    "For now we will skip the topic of how to define new objects, but we will talk about it after we cover loops, conditionals and functions.\n",
    "\n"
   ]
  },
  {
   "cell_type": "markdown",
   "metadata": {},
   "source": [
    "\n",
    "## Exceptions\n",
    "\n"
   ]
  },
  {
   "cell_type": "markdown",
   "metadata": {},
   "source": [
    "Exceptions are objects that hold errors that occur in Python during the run-time of a script.\n",
    "There are many built-in exceptions that are raised depending on the situation.\n",
    "For example, trying to access an element of a list with an index that is not correct will raise an `IndexError`:\n",
    "\n"
   ]
  },
  {
   "cell_type": "code",
   "execution_count": 1,
   "metadata": {},
   "outputs": [],
   "source": []
  },
  {
   "cell_type": "markdown",
   "metadata": {},
   "source": [
    "For example, trying to access a value stored in a dictionary with a non-existing key will raise a `KeyError`:\n",
    "\n"
   ]
  },
  {
   "cell_type": "code",
   "execution_count": 1,
   "metadata": {},
   "outputs": [],
   "source": []
  },
  {
   "cell_type": "markdown",
   "metadata": {},
   "source": [
    "For example, calling a method on an object that does not actually have that method will raise an `AttributeError`:\n",
    "\n"
   ]
  },
  {
   "cell_type": "code",
   "execution_count": 1,
   "metadata": {},
   "outputs": [],
   "source": []
  },
  {
   "cell_type": "markdown",
   "metadata": {},
   "source": [
    "A complete list of the exceptions that are built-in Python is available [here](https://docs.python.org/3.6/library/exceptions.html#concrete-exceptions).\n",
    "\n",
    "The philosophy of programming in Python when it comes to errors/exceptions is known as EAFP: Easier to Ask Forgiveness than Permission.\n",
    "It means that when we are coding, we should assume that the values/methods exist and try to do the computations, but if something fails, then we will fix it.\n",
    "This is opposed to the style known as LBYL: Look Before You Leap.\n",
    "Where you check if everything is as should be before doing the computations.\n",
    "This distinction is just a philosophical one, and, in the case of Python, the EAFP increases the speed of developing software.\n",
    "\n",
    "In a LYBL style of coding we would write software as such:\n",
    "\n"
   ]
  },
  {
   "cell_type": "code",
   "execution_count": 1,
   "metadata": {},
   "outputs": [],
   "source": []
  },
  {
   "cell_type": "markdown",
   "metadata": {},
   "source": [
    "In a EAFP style of coding we would write the same software as:\n",
    "\n"
   ]
  },
  {
   "cell_type": "code",
   "execution_count": 1,
   "metadata": {},
   "outputs": [],
   "source": []
  },
  {
   "cell_type": "markdown",
   "metadata": {},
   "source": [
    "The EAFP approach is what we will use when handling errors.\n",
    "\n",
    "Handling errors is an extremely important topic, but requires understanding conditionals, so we will defer studying exceptions to a later section.\n",
    "\n"
   ]
  },
  {
   "cell_type": "markdown",
   "metadata": {},
   "source": [
    "\n",
    "# Control Flow Tools: conditionals, loops and functions\n",
    "\n"
   ]
  },
  {
   "cell_type": "markdown",
   "metadata": {},
   "source": [
    "Control flow refers to the tools we have available to control the execution of our script.\n",
    "Examples are: conditionals (if, else, elif), loops (while, for) and functions.\n",
    "\n"
   ]
  },
  {
   "cell_type": "markdown",
   "metadata": {},
   "source": [
    "\n",
    "## Conditional: `if` Statements\n",
    "\n"
   ]
  },
  {
   "cell_type": "markdown",
   "metadata": {},
   "source": [
    "An `if` statement can be written as:\n",
    "\n"
   ]
  },
  {
   "cell_type": "code",
   "execution_count": 1,
   "metadata": {},
   "outputs": [],
   "source": [
    "if condition:\n",
    "    dosoemthing\n",
    "    dosi\n",
    "else:\n",
    "    doelse"
   ]
  },
  {
   "cell_type": "markdown",
   "metadata": {},
   "source": [
    "Notice the use of a colon after the condition and after the `else` keyword.\n",
    "Also observe that we have indented the expressions after the `if` and `else` keywords.\n",
    "Contrary to other languages that use brackets or the `end` keyword to delimit a scope, Python uses indentation.\n",
    "Finally, notice that semicolons are not required by Python, you can still use them but they are not required, instead Python uses linebreaks to find the end of the command.\n",
    "\n",
    "The condition that comes after the `if` keyword is an expression that evaluates to a boolean. If that is true, then the conde below, here denoted by `expressionIfTrue` is executed. If the expression evaluates to False, then the code denoted by `expressionIfFalse` is executed.\n",
    "\n",
    "For example:\n",
    "\n"
   ]
  },
  {
   "cell_type": "code",
   "execution_count": 4,
   "metadata": {},
   "outputs": [
    {
     "name": "stdout",
     "output_type": "stream",
     "text": [
      "value greater than 100\n",
      "hi\n"
     ]
    }
   ],
   "source": [
    "value = 100\n",
    "if value<100:\n",
    "    print('value less than 100')\n",
    "else:\n",
    "        print('value greater than 100')\n",
    "        print('hi')"
   ]
  },
  {
   "cell_type": "markdown",
   "metadata": {},
   "source": [
    "We can test multiple conditions:\n",
    "\n"
   ]
  },
  {
   "cell_type": "code",
   "execution_count": 5,
   "metadata": {},
   "outputs": [
    {
     "name": "stdout",
     "output_type": "stream",
     "text": [
      "b\n"
     ]
    }
   ],
   "source": [
    "name = 'wanxin'\n",
    "if name.startswith('a'):\n",
    "    print('a')\n",
    "elif name.startswith('w'):\n",
    "    print('b')\n",
    "else:\n",
    "    print('c')"
   ]
  },
  {
   "cell_type": "markdown",
   "metadata": {},
   "source": [
    "If the first two conditions are not executed then the last condition (the default) is.\n",
    "\n",
    "The use of `if` and `elif` statements are equivalent to the `switch` syntax from other programming languages:\n",
    "\n"
   ]
  },
  {
   "cell_type": "code",
   "execution_count": 1,
   "metadata": {},
   "outputs": [],
   "source": [
    "x = 367\n",
    "if x<-1:\n",
    "    dd\n",
    "elif x>3:\n",
    "    ff\n",
    "elif x<5 and x>7:\n",
    "    diqdi\n",
    "else:\n",
    "    dothedefault"
   ]
  },
  {
   "cell_type": "markdown",
   "metadata": {},
   "source": [
    "\n",
    "## Loops\n",
    "\n"
   ]
  },
  {
   "cell_type": "markdown",
   "metadata": {},
   "source": [
    "We can write loops using either `while` or `for`.\n",
    "A while loop evaluates an expression, and, if the expression is True, then Python executes a block of code.\n",
    "A `while` loop can be written as:\n",
    "\n"
   ]
  },
  {
   "cell_type": "code",
   "execution_count": 1,
   "metadata": {},
   "outputs": [],
   "source": [
    "while somecondition:\n",
    "    whattorun"
   ]
  },
  {
   "cell_type": "markdown",
   "metadata": {},
   "source": [
    "The code inside the `while` loop will be executed as long as the `condition` evaluates to True.\n",
    "\n",
    "For example:\n",
    "\n"
   ]
  },
  {
   "cell_type": "code",
   "execution_count": 8,
   "metadata": {},
   "outputs": [
    {
     "name": "stdout",
     "output_type": "stream",
     "text": [
      "the value of i =0\n",
      "the value of i = 0 \n",
      "the value of i =1\n",
      "the value of i = 2 \n",
      "the value of i =2\n",
      "the value of i = 4 \n",
      "the value of i =3\n",
      "the value of i = 6 \n",
      "the value of i =4\n",
      "the value of i = 8 \n",
      "the value of i =5\n",
      "the value of i = 10 \n",
      "the value of i =6\n",
      "the value of i = 12 \n",
      "the value of i =7\n",
      "the value of i = 14 \n",
      "the value of i =8\n",
      "the value of i = 16 \n",
      "the value of i =9\n",
      "the value of i = 18 \n"
     ]
    }
   ],
   "source": [
    "total = 10\n",
    "i = 0;\n",
    "while i<total:\n",
    "    print('the value of i =' + str(i))\n",
    "    print(f'the value of i = {2*i} ') #fomatting\n",
    "    i += 1"
   ]
  },
  {
   "cell_type": "markdown",
   "metadata": {},
   "source": [
    "Will print from 0 to 9.\n",
    "\n",
    "A `for` loop can be written as:\n",
    "\n"
   ]
  },
  {
   "cell_type": "code",
   "execution_count": 1,
   "metadata": {},
   "outputs": [],
   "source": [
    "for i in [0,1,2]:\n",
    "    dosomethinghere"
   ]
  },
  {
   "cell_type": "markdown",
   "metadata": {},
   "source": [
    "A for loop iterates the variable `i` over different values defined in the `iterator` variable, and for each value of `i` it executes the code in `doSomething`.\n",
    "\n",
    "For example:\n",
    "\n"
   ]
  },
  {
   "cell_type": "code",
   "execution_count": 10,
   "metadata": {},
   "outputs": [
    {
     "name": "stdout",
     "output_type": "stream",
     "text": [
      "student A\n",
      "student b\n",
      "student c\n"
     ]
    }
   ],
   "source": [
    "students = ['A','b','c']\n",
    "for i in [0,1,2]:\n",
    "    print(f'student {students[i]}')"
   ]
  },
  {
   "cell_type": "markdown",
   "metadata": {},
   "source": [
    "Remember that we have two built-in functions that can help here. The function `range` can create a list of numbers like the one in the for loop above. And the function `len` returns the length of an object.\n",
    "So:\n",
    "\n"
   ]
  },
  {
   "cell_type": "code",
   "execution_count": 11,
   "metadata": {},
   "outputs": [
    {
     "name": "stdout",
     "output_type": "stream",
     "text": [
      "student A\n",
      "student b\n",
      "student c\n"
     ]
    }
   ],
   "source": [
    "for i in range(len(students)):\n",
    "    print(f'student {students[i]}')"
   ]
  },
  {
   "cell_type": "markdown",
   "metadata": {},
   "source": [
    "For loops in Python really behave like a \"for-each\" loop.\n",
    "We can iterate over the elements of `students` directly, without the need to use an index.\n",
    "\n"
   ]
  },
  {
   "cell_type": "code",
   "execution_count": 18,
   "metadata": {},
   "outputs": [
    {
     "name": "stdout",
     "output_type": "stream",
     "text": [
      "grade 10 for student A\n",
      "grade 10 for student b\n",
      "grade 10 for student c\n"
     ]
    }
   ],
   "source": [
    "for i in students:  #iterator just need to be a list\n",
    "    print('grade 10 for student '+ i)\n",
    "\n",
    "grades = [10,9,8]"
   ]
  },
  {
   "cell_type": "markdown",
   "metadata": {},
   "source": [
    "The container with the students takes care of giving out each of the elements without explicitly tracking the index of elements.\n",
    "If the container (in this case a list) is ordered, then the elements will be processed in the same order.\n",
    "If the container is not ordered then the loop would process each elements in an arbitrary order, but all of the elements would be processed.\n",
    "\n",
    "If you really need to access the indices then you can use the built-in function `enumerate` to iterate over the indices and the student names at the same time:\n",
    "\n"
   ]
  },
  {
   "cell_type": "code",
   "execution_count": 20,
   "metadata": {},
   "outputs": [
    {
     "name": "stdout",
     "output_type": "stream",
     "text": [
      "[(0, 'A'), (1, 'b'), (2, 'c')]\n",
      "(0, 'A')\n",
      "(1, 'b')\n",
      "(2, 'c')\n",
      "0 A\n",
      "1 b\n",
      "2 c\n"
     ]
    }
   ],
   "source": [
    "print(list(enumerate(students)))\n",
    "for element in enumerate(students):\n",
    "    print(element)\n",
    "for index,value in enumerate(students):\n",
    "    print(f'{index} {value}')"
   ]
  },
  {
   "cell_type": "markdown",
   "metadata": {},
   "source": [
    "The iterator `enumerate(students)` returns more than one value (it returns two values at each iteration). In general, iterators can return a `tuple` with any number of values, and these values are unpacked in the for-loop. In this case, the `enumerate(students)` returns a tuple with two elements, the first is an integer representing the index (starting at 0), and the second is one of the elements of the students list.\n",
    "These two values are unpacked, the first one is assigned to the variable `i`, and the second is assigned to the variable `name`.\n",
    "\n",
    "We can iterate over keys and values of a dictionary:\n",
    "\n"
   ]
  },
  {
   "cell_type": "code",
   "execution_count": 24,
   "metadata": {},
   "outputs": [
    {
     "name": "stdout",
     "output_type": "stream",
     "text": [
      "Help on built-in function items:\n",
      "\n",
      "items(...) method of builtins.dict instance\n",
      "    D.items() -> a set-like object providing a view on D's items\n",
      "\n",
      "A10\n",
      "b9\n",
      "c8\n"
     ]
    }
   ],
   "source": [
    "students_grades = {'A':10,'b':9,'c':8}\n",
    "help(students_grades.items)\n",
    "students_grades.items()\n",
    "for student,grade in students_grades.items():\n",
    "    print(f'{student}{grade}')\n"
   ]
  },
  {
   "cell_type": "markdown",
   "metadata": {},
   "source": [
    "In some other languages a for-loop is written with the following syntax:\n",
    "\n"
   ]
  },
  {
   "cell_type": "code",
   "execution_count": 1,
   "metadata": {},
   "outputs": [],
   "source": [
    "for i in range(a,n,s): #0,10,2 then 0,2,4,6,6,8"
   ]
  },
  {
   "cell_type": "markdown",
   "metadata": {},
   "source": [
    "This type of loop can be written in Python using the function `range`:\n",
    "\n"
   ]
  },
  {
   "cell_type": "code",
   "execution_count": 1,
   "metadata": {},
   "outputs": [],
   "source": []
  },
  {
   "cell_type": "markdown",
   "metadata": {},
   "source": [
    "The function `range(a, n, s)` will create a list of numbers starting at the value $a$, stops before the valur $n$, and has a step size $s$.\n",
    "\n"
   ]
  },
  {
   "cell_type": "markdown",
   "metadata": {},
   "source": [
    "\n",
    "## Break and Else Statements in For Loops\n",
    "\n"
   ]
  },
  {
   "cell_type": "markdown",
   "metadata": {},
   "source": [
    "The `break` keyword can be used inside a loop (either for or while) to break out of it.\n",
    "Specifically, the `break` keyword breaks out of the most inner loop.\n",
    "\n"
   ]
  },
  {
   "cell_type": "code",
   "execution_count": 25,
   "metadata": {},
   "outputs": [
    {
     "name": "stdout",
     "output_type": "stream",
     "text": [
      "0\n",
      "1\n",
      "2\n",
      "3\n",
      "4\n",
      "5\n"
     ]
    }
   ],
   "source": [
    "for i in range(10):\n",
    "    print(i)\n",
    "    if i ==5:\n",
    "        break"
   ]
  },
  {
   "cell_type": "markdown",
   "metadata": {},
   "source": [
    "Another example:\n",
    "\n"
   ]
  },
  {
   "cell_type": "code",
   "execution_count": 26,
   "metadata": {},
   "outputs": [
    {
     "name": "stdout",
     "output_type": "stream",
     "text": [
      "0 0\n",
      "1 0\n",
      "2 0\n",
      "3 0\n",
      "4 0\n",
      "5 0\n",
      "0 1\n",
      "1 1\n",
      "2 1\n",
      "3 1\n",
      "4 1\n",
      "5 1\n",
      "Im free\n"
     ]
    }
   ],
   "source": [
    "j = 0;\n",
    "while True:\n",
    "    for i in range(100):\n",
    "        print(i,j)\n",
    "        if i ==5:\n",
    "            break\n",
    "    j +=1\n",
    "    if j ==2:\n",
    "        break\n",
    "print('Im free')"
   ]
  },
  {
   "cell_type": "markdown",
   "metadata": {},
   "source": [
    "Loops also have an `else` clause that is executed after the loop finishes (after the iterator is exhausted) and only if the loop finishes without the use of a `break`.\n",
    "\n"
   ]
  },
  {
   "cell_type": "code",
   "execution_count": 28,
   "metadata": {},
   "outputs": [
    {
     "name": "stdout",
     "output_type": "stream",
     "text": [
      "3 is prime\n",
      "4 is not prime\n",
      "4 = 2*2\n",
      "5 is prime\n",
      "6 is not prime\n",
      "6 = 2*3\n",
      "7 is prime\n",
      "8 is not prime\n",
      "8 = 2*4\n",
      "9 is not prime\n",
      "9 = 3*3\n"
     ]
    }
   ],
   "source": [
    "checkifprime = range(3,10)\n",
    "for number in checkifprime:\n",
    "    for divisor in range(2,number):\n",
    "        if number% divisor == 0:\n",
    "            print(f'{number} is not prime')\n",
    "            print(f'{number} = {divisor}*{number//divisor}')\n",
    "            break\n",
    "    else:\n",
    "            print(f'{number} is prime')\n"
   ]
  },
  {
   "cell_type": "markdown",
   "metadata": {},
   "source": [
    "Notice that the `else` clause does not belong to the `if`, but actually to the `for`, the indentations are different.\n",
    "\n"
   ]
  },
  {
   "cell_type": "markdown",
   "metadata": {},
   "source": [
    "\n",
    "## Functions\n",
    "\n"
   ]
  },
  {
   "cell_type": "markdown",
   "metadata": {},
   "source": [
    "Functions can be defined with the `def` keyword and there is no need to specify the type of the return (remember values in Python are inferred when they are assigned).\n",
    "\n"
   ]
  },
  {
   "cell_type": "code",
   "execution_count": 34,
   "metadata": {},
   "outputs": [
    {
     "name": "stdout",
     "output_type": "stream",
     "text": [
      "Hi jas\n",
      "10\n"
     ]
    }
   ],
   "source": [
    "def sayHi(name):\n",
    "    print(f'Hi {name}')\n",
    "    return 10\n",
    "print(sayHi('jas'))"
   ]
  },
  {
   "cell_type": "markdown",
   "metadata": {},
   "source": [
    "We can now call this function:\n",
    "\n"
   ]
  },
  {
   "cell_type": "code",
   "execution_count": 38,
   "metadata": {},
   "outputs": [
    {
     "ename": "SyntaxError",
     "evalue": "invalid syntax (<ipython-input-38-8ac3aecc50fa>, line 9)",
     "output_type": "error",
     "traceback": [
      "\u001b[1;36m  File \u001b[1;32m\"<ipython-input-38-8ac3aecc50fa>\"\u001b[1;36m, line \u001b[1;32m9\u001b[0m\n\u001b[1;33m    total = total +1\u001b[0m\n\u001b[1;37m        ^\u001b[0m\n\u001b[1;31mSyntaxError\u001b[0m\u001b[1;31m:\u001b[0m invalid syntax\n"
     ]
    }
   ],
   "source": [
    "def writefibonacciSeries(n):\n",
    "    \"\"\"\n",
    "    documentation for function\n",
    "    \"\"\"\n",
    "    series =[1,1]\n",
    "    total = 0\n",
    "    while total < n-2:\n",
    "        series.append(sum(series[-2:])\n",
    "        total = total +1\n",
    "    return series"
   ]
  },
  {
   "cell_type": "markdown",
   "metadata": {},
   "source": [
    "After the `def` keyword comes the name of the function, and then parentheses `()`. Inside the parentheses are the name of the variables, if any, and then comes a colon.\n",
    "The body of the function starts in the next line and must be indented.\n",
    "\n",
    "The body of a functin starts with its documentation string (docstring). The triple quotes define a multi-line comment and it is a good practice to add the definition of the function, or at least what it is supposed to do and output.\n",
    "Notice that calling the function `help` on or just defined function will output its docstring:\n",
    "\n"
   ]
  },
  {
   "cell_type": "code",
   "execution_count": 35,
   "metadata": {},
   "outputs": [
    {
     "ename": "NameError",
     "evalue": "name 'writefibonacciSeries' is not defined",
     "output_type": "error",
     "traceback": [
      "\u001b[1;31m---------------------------------------------------------------------------\u001b[0m",
      "\u001b[1;31mNameError\u001b[0m                                 Traceback (most recent call last)",
      "\u001b[1;32m<ipython-input-35-2706a69333ac>\u001b[0m in \u001b[0;36m<module>\u001b[1;34m\u001b[0m\n\u001b[1;32m----> 1\u001b[1;33m \u001b[0mwritefibonacciSeries\u001b[0m\u001b[1;33m(\u001b[0m\u001b[1;36m10\u001b[0m\u001b[1;33m)\u001b[0m\u001b[1;33m[\u001b[0m\u001b[1;36m2\u001b[0m\u001b[1;33m:\u001b[0m\u001b[1;33m]\u001b[0m\u001b[1;33m\u001b[0m\u001b[0m\n\u001b[0m",
      "\u001b[1;31mNameError\u001b[0m: name 'writefibonacciSeries' is not defined"
     ]
    }
   ],
   "source": [
    "writefibonacciSeries(10)[2:]"
   ]
  },
  {
   "cell_type": "markdown",
   "metadata": {},
   "source": [
    "The body of the function defines a local scope.\n",
    "Any variables that are assigned in the body of the function first refer to the local scope, and then to the global scope.\n",
    "\n"
   ]
  },
  {
   "cell_type": "code",
   "execution_count": 1,
   "metadata": {},
   "outputs": [],
   "source": []
  },
  {
   "cell_type": "markdown",
   "metadata": {},
   "source": [
    "The variable `message` is first defined outside the function, it is a global variable.\n",
    "Inside the `sayHello` function we define a variable with the same name, it is a local variable and does not overwrite the global variable with the same name.\n",
    "This becomes clear when we print the value of `message` outside of the function.\n",
    "\n",
    "Notice that the `sayHello` function has no `return` keyword and does not return any value.\n",
    "A function that has no `return` keyword implicitly returns a value of `None`.\n",
    "That is, Python impicitly appends a `return None` to the function that has no `return` value.\n",
    "The body of the function ends when the indentation ends, so there is no need to use brackets or an `end` keyword.\n",
    "When the value of `None` is the only one to be returned by a function, the REPL suppress printing it on the screen.\n",
    "\n"
   ]
  },
  {
   "cell_type": "code",
   "execution_count": 41,
   "metadata": {},
   "outputs": [],
   "source": [
    "\n",
    "def sayhello():\n",
    "    print('hello')"
   ]
  },
  {
   "cell_type": "markdown",
   "metadata": {},
   "source": [
    "\n",
    "### Functions are Objects, like everything else\n",
    "\n"
   ]
  },
  {
   "cell_type": "markdown",
   "metadata": {},
   "source": [
    "Functions are first-class objects, which menas they are treated the same as any other object in the language.\n",
    "Remember, everything in Python is an object.\n",
    "Functions can be created, destroyed (this is done automatically by Python), passed to other functions, assigned to a variable, returned from another function.\n",
    "\n"
   ]
  },
  {
   "cell_type": "code",
   "execution_count": 47,
   "metadata": {},
   "outputs": [
    {
     "ename": "NameError",
     "evalue": "name 'sayhello' is not defined",
     "output_type": "error",
     "traceback": [
      "\u001b[1;31m---------------------------------------------------------------------------\u001b[0m",
      "\u001b[1;31mNameError\u001b[0m                                 Traceback (most recent call last)",
      "\u001b[1;32m<ipython-input-47-2a386416f67f>\u001b[0m in \u001b[0;36m<module>\u001b[1;34m\u001b[0m\n\u001b[1;32m----> 1\u001b[1;33m \u001b[0mtype\u001b[0m\u001b[1;33m(\u001b[0m\u001b[0msayhello\u001b[0m\u001b[1;33m)\u001b[0m\u001b[1;33m\u001b[0m\u001b[0m\n\u001b[0m\u001b[0;32m      2\u001b[0m \u001b[0ma\u001b[0m \u001b[1;33m=\u001b[0m \u001b[0msayhello\u001b[0m\u001b[1;33m(\u001b[0m\u001b[1;33m)\u001b[0m\u001b[1;33m\u001b[0m\u001b[0m\n\u001b[0;32m      3\u001b[0m \u001b[1;32mdel\u001b[0m \u001b[0msayhello\u001b[0m\u001b[1;33m\u001b[0m\u001b[0m\n\u001b[0;32m      4\u001b[0m \u001b[0mprint\u001b[0m\u001b[1;33m(\u001b[0m\u001b[0msayhello\u001b[0m\u001b[1;33m)\u001b[0m\u001b[1;33m\u001b[0m\u001b[0m\n\u001b[0;32m      5\u001b[0m \u001b[0mprint\u001b[0m\u001b[1;33m(\u001b[0m\u001b[0ma\u001b[0m\u001b[1;33m)\u001b[0m\u001b[1;33m\u001b[0m\u001b[0m\n",
      "\u001b[1;31mNameError\u001b[0m: name 'sayhello' is not defined"
     ]
    }
   ],
   "source": [
    "type(sayhello)\n",
    "a = sayhello()\n",
    "del sayhello\n",
    "print(sayhello)\n",
    "print(a)"
   ]
  },
  {
   "cell_type": "code",
   "execution_count": 48,
   "metadata": {},
   "outputs": [
    {
     "name": "stdout",
     "output_type": "stream",
     "text": [
      "None\n"
     ]
    }
   ],
   "source": [
    "print(a)"
   ]
  },
  {
   "cell_type": "markdown",
   "metadata": {},
   "source": [
    "When a function is defined and loaded by the Python interpreter it is assigned some space in memory.\n",
    "When we ran the code that defined `sayHello`, the function is created and assigned some space in memoy.\n",
    "The name 'sayHello' then points to that space in memory.\n",
    "When we assign it to the variable 'a', then 'a' starts pointing at the same space in memory.\n",
    "We can in fact delete the name 'sayHello' and the function will still be accessible via the name 'a':\n",
    "\n"
   ]
  },
  {
   "cell_type": "code",
   "execution_count": 1,
   "metadata": {},
   "outputs": [],
   "source": []
  },
  {
   "cell_type": "markdown",
   "metadata": {},
   "source": [
    "We can pass around functions, and even return a function from another function:\n",
    "\n"
   ]
  },
  {
   "cell_type": "code",
   "execution_count": 50,
   "metadata": {},
   "outputs": [
    {
     "name": "stdout",
     "output_type": "stream",
     "text": [
      "Welcome,students\n",
      "Welcome,aaa\n",
      "Welcome,students\n"
     ]
    }
   ],
   "source": [
    "def greeting(name):\n",
    "    def greet():\n",
    "        print(f'Welcome,{name}')\n",
    "    return greet\n",
    "\n",
    "hello = greeting('students')\n",
    "hello()\n",
    "\n",
    "a = greeting('aaa')\n",
    "a()\n",
    "hello()"
   ]
  },
  {
   "cell_type": "markdown",
   "metadata": {},
   "source": [
    "The function defined above takes a name as an argument, and creates a function that prints a message using the name.\n",
    "It then returns the newly defined function.\n",
    "This function that was returned remembers the value of `name` that was used in its construction, this is called a 'closure'.\n",
    "A closure is a function that remembers the values of the variables in the enclosing scope (the scope of `greetingFactory`).\n",
    "\n"
   ]
  },
  {
   "cell_type": "code",
   "execution_count": 1,
   "metadata": {},
   "outputs": [],
   "source": []
  },
  {
   "cell_type": "markdown",
   "metadata": {},
   "source": [
    "\n",
    "### Default Values\n",
    "\n"
   ]
  },
  {
   "cell_type": "markdown",
   "metadata": {},
   "source": [
    "In Python functions can take arguments with default values!\n",
    "\n"
   ]
  },
  {
   "cell_type": "code",
   "execution_count": 1,
   "metadata": {},
   "outputs": [],
   "source": [
    "def functionName(input1,input2,input3=10,input4='s')"
   ]
  },
  {
   "cell_type": "markdown",
   "metadata": {},
   "source": [
    "This function can be called in several different ways:\n",
    "\n"
   ]
  },
  {
   "cell_type": "code",
   "execution_count": 1,
   "metadata": {},
   "outputs": [],
   "source": [
    "functionName(1,2)\n",
    "functionName(1,2,300)\n",
    "functionName(1,5,input4 = 6)"
   ]
  },
  {
   "cell_type": "markdown",
   "metadata": {},
   "source": [
    "You can even specify which variable you are assigning the value to:\n",
    "\n"
   ]
  },
  {
   "cell_type": "code",
   "execution_count": 1,
   "metadata": {},
   "outputs": [],
   "source": []
  },
  {
   "cell_type": "markdown",
   "metadata": {},
   "source": [
    "The default values are captured (evaluated) when the function is defined:\n",
    "\n"
   ]
  },
  {
   "cell_type": "code",
   "execution_count": 1,
   "metadata": {},
   "outputs": [],
   "source": []
  },
  {
   "cell_type": "markdown",
   "metadata": {},
   "source": [
    "\n",
    "### Functions with \\*args and \\*\\*kwargs\n",
    "\n"
   ]
  },
  {
   "cell_type": "markdown",
   "metadata": {},
   "source": [
    "You will often find functions defined as such:\n",
    "\n"
   ]
  },
  {
   "cell_type": "code",
   "execution_count": 54,
   "metadata": {},
   "outputs": [
    {
     "name": "stdout",
     "output_type": "stream",
     "text": [
      "args = (2323232, 43, 56)\n",
      "kwargs = {'a': 1, 'b': 2, 'd': 5}\n"
     ]
    }
   ],
   "source": [
    "def myfunction(variable1, *args, **kwargs ):\n",
    "    print(f'args = {args}')\n",
    "    print(f'kwargs = {kwargs}')\n",
    "myfunction(1,2323232,43,56, a=1,b=2, d=5)"
   ]
  },
  {
   "cell_type": "markdown",
   "metadata": {},
   "source": [
    "Here the `variable1` is just the first argument that the function receives, it is named 'variable1' and is available for use within the function body.\n",
    "The keywords `*args` and `**kwargs` allow the function to accept optional arguments, as many as you want.\n",
    "Thus, the function above requires at least one argument, called \"variable1\", and can accept extra arguments.\n",
    "\n",
    "The keyword `*args` collects additional positional arguments, that is, arguments that do not have a keyword associated with them.\n",
    "These arguments are collected into a tuple with the name 'args'.\n",
    "\n"
   ]
  },
  {
   "cell_type": "code",
   "execution_count": 1,
   "metadata": {},
   "outputs": [],
   "source": []
  },
  {
   "cell_type": "markdown",
   "metadata": {},
   "source": [
    "The keyword `**kwargs` collects values that are associated with names.\n",
    "These names and values are collected into a dictionary, which is available in the function body via the name 'kwargs':\n",
    "\n"
   ]
  },
  {
   "cell_type": "code",
   "execution_count": 1,
   "metadata": {},
   "outputs": [],
   "source": []
  },
  {
   "cell_type": "markdown",
   "metadata": {},
   "source": [
    "If no extra arguments are passed, then \"args\" and \"kwargs\" will be empty:\n",
    "\n"
   ]
  },
  {
   "cell_type": "code",
   "execution_count": 1,
   "metadata": {},
   "outputs": [],
   "source": []
  },
  {
   "cell_type": "markdown",
   "metadata": {},
   "source": [
    "\n",
    "### Anonymous Functions: lambdas\n",
    "\n"
   ]
  },
  {
   "cell_type": "markdown",
   "metadata": {},
   "source": [
    "We can declare short inline functions using the `lambda` keyword.\n",
    "\n"
   ]
  },
  {
   "cell_type": "code",
   "execution_count": 55,
   "metadata": {},
   "outputs": [
    {
     "data": {
      "text/plain": [
       "5"
      ]
     },
     "execution_count": 55,
     "metadata": {},
     "output_type": "execute_result"
    }
   ],
   "source": [
    "add = lambda x, y:x+y\n",
    "add(2,3)"
   ]
  },
  {
   "cell_type": "markdown",
   "metadata": {},
   "source": [
    "After the keyword `lambda` comes the arguments, in this case x and y. After the colon comes whatever the function will return, in this case $x+y$.\n",
    "The function here is assigned to the name 'add'.\n",
    "\n",
    "Lambdas are useful in some contexts.\n",
    "Suppose we have a list that we want to sort:\n",
    "\n"
   ]
  },
  {
   "cell_type": "code",
   "execution_count": 65,
   "metadata": {},
   "outputs": [
    {
     "name": "stdout",
     "output_type": "stream",
     "text": [
      "<built-in method sort of list object at 0x0000011DFC213B88>\n"
     ]
    },
    {
     "ename": "TypeError",
     "evalue": "'builtin_function_or_method' object is not subscriptable",
     "output_type": "error",
     "traceback": [
      "\u001b[1;31m---------------------------------------------------------------------------\u001b[0m",
      "\u001b[1;31mTypeError\u001b[0m                                 Traceback (most recent call last)",
      "\u001b[1;32m<ipython-input-65-8d7c8e29c34f>\u001b[0m in \u001b[0;36m<module>\u001b[1;34m\u001b[0m\n\u001b[0;32m      1\u001b[0m \u001b[0mgrades\u001b[0m \u001b[1;33m=\u001b[0m \u001b[1;33m[\u001b[0m\u001b[1;33m(\u001b[0m\u001b[1;34m'a'\u001b[0m\u001b[1;33m,\u001b[0m\u001b[1;36m15\u001b[0m\u001b[1;33m)\u001b[0m\u001b[1;33m,\u001b[0m\u001b[1;33m(\u001b[0m\u001b[1;34m'b'\u001b[0m\u001b[1;33m,\u001b[0m\u001b[1;36m10\u001b[0m\u001b[1;33m)\u001b[0m\u001b[1;33m,\u001b[0m\u001b[1;33m(\u001b[0m\u001b[1;34m'c'\u001b[0m\u001b[1;33m,\u001b[0m\u001b[1;36m98\u001b[0m\u001b[1;33m)\u001b[0m\u001b[1;33m]\u001b[0m\u001b[1;33m\u001b[0m\u001b[0m\n\u001b[1;32m----> 2\u001b[1;33m \u001b[0mhelp\u001b[0m\u001b[1;33m(\u001b[0m\u001b[0mgrades\u001b[0m\u001b[1;33m.\u001b[0m\u001b[0msort\u001b[0m\u001b[1;33m)\u001b[0m \u001b[1;31m#inplace\u001b[0m\u001b[1;33m\u001b[0m\u001b[0m\n\u001b[0m\u001b[0;32m      3\u001b[0m \u001b[0mprint\u001b[0m\u001b[1;33m(\u001b[0m\u001b[0mgrades\u001b[0m\u001b[1;33m)\u001b[0m\u001b[1;33m\u001b[0m\u001b[0m\n\u001b[0;32m      4\u001b[0m \u001b[0mgrades\u001b[0m\u001b[1;33m.\u001b[0m\u001b[0msort\u001b[0m\u001b[1;33m(\u001b[0m\u001b[1;33m)\u001b[0m\u001b[1;33m\u001b[0m\u001b[0m\n\u001b[0;32m      5\u001b[0m \u001b[0mprint\u001b[0m\u001b[1;33m(\u001b[0m\u001b[0mgrades\u001b[0m\u001b[1;33m)\u001b[0m\u001b[1;33m\u001b[0m\u001b[0m\n",
      "\u001b[1;32m<ipython-input-63-f0746b343aae>\u001b[0m in \u001b[0;36mhelp\u001b[1;34m(x)\u001b[0m\n\u001b[0;32m      8\u001b[0m \u001b[1;32mdef\u001b[0m \u001b[0mhelp\u001b[0m\u001b[1;33m(\u001b[0m\u001b[0mx\u001b[0m\u001b[1;33m)\u001b[0m\u001b[1;33m:\u001b[0m\u001b[1;33m\u001b[0m\u001b[0m\n\u001b[0;32m      9\u001b[0m     \u001b[0mprint\u001b[0m\u001b[1;33m(\u001b[0m\u001b[0mx\u001b[0m\u001b[1;33m)\u001b[0m\u001b[1;33m\u001b[0m\u001b[0m\n\u001b[1;32m---> 10\u001b[1;33m     \u001b[1;32mreturn\u001b[0m \u001b[0mx\u001b[0m\u001b[1;33m[\u001b[0m\u001b[1;36m1\u001b[0m\u001b[1;33m]\u001b[0m\u001b[1;33m\u001b[0m\u001b[0m\n\u001b[0m\u001b[0;32m     11\u001b[0m \u001b[0mgrades\u001b[0m\u001b[1;33m.\u001b[0m\u001b[0msort\u001b[0m\u001b[1;33m(\u001b[0m\u001b[0mhelp\u001b[0m\u001b[1;33m)\u001b[0m\u001b[1;33m\u001b[0m\u001b[0m\n",
      "\u001b[1;31mTypeError\u001b[0m: 'builtin_function_or_method' object is not subscriptable"
     ]
    }
   ],
   "source": [
    "grades = [('a',15),('b',10),('c',98)]\n",
    "help(grades.sort) #inplace\n",
    "print(grades)\n",
    "grades.sort()\n",
    "print(grades)\n",
    "grades.sort(key = lambda x: x[1],reverse=True) #pair elements\n",
    "print(grades)\n",
    "def helper(x):\n",
    "    print(x)\n",
    "    return x[1]\n",
    "grades.sort(helper)"
   ]
  },
  {
   "cell_type": "markdown",
   "metadata": {},
   "source": [
    "The list method `sort` sorts a list in place.\n",
    "It takes an optional argument called `key`.\n",
    "This argument is a function that takes an element of the list and returns a value.\n",
    "The value that is returned is used for sorting the list.\n",
    "\n"
   ]
  },
  {
   "cell_type": "code",
   "execution_count": 1,
   "metadata": {},
   "outputs": [],
   "source": []
  },
  {
   "cell_type": "markdown",
   "metadata": {},
   "source": [
    "Notice that the tuples inside this list were sorted by their first value, a string.\n",
    "We can sort the list of students and grades based on the grades.\n",
    "We can passa a lambda function to the `key` argument that will return the grade value for sorting:\n",
    "\n"
   ]
  },
  {
   "cell_type": "code",
   "execution_count": 1,
   "metadata": {},
   "outputs": [],
   "source": []
  },
  {
   "cell_type": "markdown",
   "metadata": {},
   "source": [
    "If we want to sort in a decreasing order:\n",
    "\n"
   ]
  },
  {
   "cell_type": "code",
   "execution_count": 1,
   "metadata": {},
   "outputs": [],
   "source": []
  },
  {
   "cell_type": "markdown",
   "metadata": {},
   "source": [
    "\n",
    "# Advanced\n",
    "\n"
   ]
  },
  {
   "cell_type": "markdown",
   "metadata": {},
   "source": [
    "\n",
    "## Handling Exceptions\n",
    "\n"
   ]
  },
  {
   "cell_type": "markdown",
   "metadata": {},
   "source": [
    "It is possible to write a Python script that can handle exceptions as they occur during execution.\n",
    "In fact, many of Python's own functions use exceptions as a form of control flow.\n",
    "Let's see how we can handle errors:\n",
    "\n"
   ]
  },
  {
   "cell_type": "code",
   "execution_count": 1,
   "metadata": {},
   "outputs": [],
   "source": []
  },
  {
   "cell_type": "markdown",
   "metadata": {},
   "source": [
    "The `input` will wait for the user to type something in the standard input and hit enter.\n",
    "Whatever was inputed will come in as a string, and the `int` function will attempt to convert it to an integer.\n",
    "If the string does not contain an integer, then a `ValueError` exception will be raised.\n",
    "\n"
   ]
  },
  {
   "cell_type": "code",
   "execution_count": 1,
   "metadata": {},
   "outputs": [],
   "source": []
  },
  {
   "cell_type": "markdown",
   "metadata": {},
   "source": [
    "Python will execute whatever is in the `try` block.\n",
    "If no exception occurs inside the block, then the `except` statement is skipped and the `try` statement is finished.\n",
    "However, if an exception occur inside the `try` block, then the rest of the `try` block is skipped.\n",
    "Then, if the exception type matches with the keyword that comes after `except`, the `except` block is executed.\n",
    "After the `except` block is executed, the code continues on.\n",
    "\n",
    "If another exception occur with a type different than `ValueError`, then it is an unhandled exception, and the execution of the script will be stopped and an error message will be shown.\n",
    "Try executing the `while` loop above and instead of entering an integer, hit Ctrl-C Ctrl-C, which will raise a `KeyboardInterrupt` error.\n",
    "Since this error is not handled, then the script will be completely interrupted.\n",
    "This is an unhandled error.\n",
    "\n",
    "It is possible to handle more than one type of exception:\n",
    "\n"
   ]
  },
  {
   "cell_type": "code",
   "execution_count": 1,
   "metadata": {},
   "outputs": [],
   "source": []
  },
  {
   "cell_type": "markdown",
   "metadata": {},
   "source": [
    "If we hit Ctrl-C Ctrl-C, then the script will raise a `KeyboardInterrupt` exception.\n",
    "Which the second `except` will catch and handle.\n",
    "It hanldes the exception by printing a message and breaking out of the loop, causing the script to end.\n",
    "Notice that we have an `else` clause at the end.\n",
    "That clause will only be executed if no exception is raised.\n",
    "That happens if the user enters an integer number, in that case the number is printed and the loop is broken.\n",
    "\n",
    "If the `except` keyword is used without specifying an exception type, then it will catch <span class=\"underline\">all</span> exceptions.\n",
    "This is not a good practice since it will catch any exception that you may or may not expect.\n",
    "Only hanlde exceptions you know how to handle.\n",
    "\n",
    "Lastly, there is a `finally` keyword that can be used in a `try` block:\n",
    "\n"
   ]
  },
  {
   "cell_type": "code",
   "execution_count": 1,
   "metadata": {},
   "outputs": [],
   "source": []
  },
  {
   "cell_type": "markdown",
   "metadata": {},
   "source": [
    "The above will `raise` an exception which is not handled.\n",
    "Since the exception is not handled it will stop the execution of the script.\n",
    "However, before doing so, the code in the `finally` clause is executed.\n",
    "\n",
    "The real world use of the `finally` clause is to guarantee that resources are correctly closed, like closing a file or a network connection even if an error in the script occurred.\n",
    "\n"
   ]
  },
  {
   "cell_type": "markdown",
   "metadata": {},
   "source": [
    "\n",
    "## Assertions\n",
    "\n"
   ]
  },
  {
   "cell_type": "markdown",
   "metadata": {},
   "source": [
    "Exceptions and the `try` blocks are used to tackle errors that you can handle.\n",
    "Assertions are used to alert you of an error that cannot be recovered (that should stop the execution of the script).\n",
    "\n"
   ]
  },
  {
   "cell_type": "code",
   "execution_count": 1,
   "metadata": {},
   "outputs": [],
   "source": []
  },
  {
   "cell_type": "markdown",
   "metadata": {},
   "source": [
    "The `assert` statement will check if the variable `discount` is between 0 and 1, and, if it is not, it will raise an `AssertionError` with the message \"Discount greater than actual price\".\n",
    "\n",
    "If the `discountPrice` function sits in the middle of a payment system of some company, and at some point it is invoked with a discount that is greater than $100%$, then something clearly went wrong somewhere.\n",
    "We found a bug!\n",
    "If this assertion error occurred, then we need to stop the program and fix it.\n",
    "An assertion error should only be raised if there is a bug in your program.\n",
    "\n"
   ]
  }
 ],
 "metadata": {
  "kernelspec": {
   "display_name": "Python 3",
   "language": "python",
   "name": "python3"
  },
  "language_info": {
   "codemirror_mode": {
    "name": "ipython",
    "version": 3
   },
   "file_extension": ".py",
   "mimetype": "text/x-python",
   "name": "python",
   "nbconvert_exporter": "python",
   "pygments_lexer": "ipython3",
   "version": "3.6.6"
  },
  "org": null
 },
 "nbformat": 4,
 "nbformat_minor": 1
}
