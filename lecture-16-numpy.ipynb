{
 "cells": [
  {
   "cell_type": "markdown",
   "metadata": {},
   "source": [
    "NumPy is a package for scientific computing in Python.\n",
    "It implements an object to represent N-dimensional arrays (vectors, matrices and higher dimensional matrices).\n",
    "It also has linear algebra functions and random number generators.\n",
    "\n",
    "Why do we need Numpy?\n",
    "Python is a dynamically typed language, it infers the type of a variable at runtime.\n",
    "This means that when Python store variables in memory, it not only stores the variable's value, but also its type.\n",
    "Then, when we perform a computation, like adding two variables ($x+y$), Python looks up the type of $x$ and the type of $y$, and applies the definition of $+$ to those types if it makes sense to do so. If those types are integers, for example, then Python performs an integer addition.\n",
    "However, if the type of $x$ is inteter, but $y$ is a list, then the operation is not defined and Python will raise an exception (error).\n",
    "This type of checking is called a runtime type check.\n",
    "\n",
    "The runtime type check makes programming in Python a pleasure, since you do not have to worry about types all the time.\n",
    "However, it does lead to inefficiencies when we start performing operations on large datasets.\n",
    "Numpy solves those inefficiencies.\n",
    "\n",
    "Numpy introduces a new type of list, called a numpy `array`.\n",
    "In an array, the type of all elements is the same.\n",
    "This has two benefits.\n",
    "First, the type is only stored once, so performing operations with numpy is much faster than with Python lists.\n",
    "Second, since all elements have the same type, their position in the memory is easy to compute.\n",
    "This means that accessing random elements in a numpy array is quick.\n",
    "\n",
    "Numpy also provides a set of operations for numpy array, all implemented in C.\n",
    "Arrays are not required to be 1 dimensional, so the class can also deal with matrices and higher dimensional arrays.\n",
    "Numpy is the base of other higher-level packages, like `pandas` and `scipy`.\n",
    "\n"
   ]
  },
  {
   "cell_type": "markdown",
   "metadata": {},
   "source": [
    "\n",
    "# Install\n",
    "\n"
   ]
  },
  {
   "cell_type": "markdown",
   "metadata": {},
   "source": [
    "Numpy can be installed with `pip`.\n",
    "After activating your environment in the terminal, run:\n",
    "\n"
   ]
  },
  {
   "cell_type": "code",
   "execution_count": 1,
   "metadata": {},
   "outputs": [
    {
     "name": "stdout",
     "output_type": "stream",
     "text": [
      "\n",
      "The following command must be run outside of the IPython shell:\n",
      "\n",
      "    $ pip install numpy\n",
      "\n",
      "The Python package manager (pip) can only be used from outside of IPython.\n",
      "Please reissue the `pip` command in a separate terminal or command prompt.\n",
      "\n",
      "See the Python documentation for more information on how to install packages:\n",
      "\n",
      "    https://docs.python.org/3/installing/\n"
     ]
    }
   ],
   "source": [
    "pip install numpy"
   ]
  },
  {
   "cell_type": "markdown",
   "metadata": {},
   "source": [
    "Now `numpy` is available for Python and can be imported with:\n",
    "\n"
   ]
  },
  {
   "cell_type": "code",
   "execution_count": 1,
   "metadata": {},
   "outputs": [],
   "source": [
    "import numpy"
   ]
  },
  {
   "cell_type": "markdown",
   "metadata": {},
   "source": [
    "All of the numpy functionality can now be accessed via the object `numpy`.\n",
    "\n",
    "You will often see the following command being used:\n",
    "\n"
   ]
  },
  {
   "cell_type": "code",
   "execution_count": 2,
   "metadata": {},
   "outputs": [],
   "source": [
    "import numpy as np"
   ]
  },
  {
   "cell_type": "markdown",
   "metadata": {},
   "source": [
    "Which makes the `numpy` functionality available via `np`.\n",
    "This is often used because it requires less typing to use numpy.\n",
    "\n"
   ]
  },
  {
   "cell_type": "markdown",
   "metadata": {},
   "source": [
    "\n",
    "# Basics\n",
    "\n"
   ]
  },
  {
   "cell_type": "markdown",
   "metadata": {},
   "source": [
    "To create a matrix with numpy we run:\n",
    "\n"
   ]
  },
  {
   "cell_type": "code",
   "execution_count": 6,
   "metadata": {},
   "outputs": [
    {
     "name": "stdout",
     "output_type": "stream",
     "text": [
      "[[1 2 3 4]\n",
      " [4 5 6 7]]\n"
     ]
    }
   ],
   "source": [
    "matrix = np.array([[1,2,3,4],[4,5,6,7]])\n",
    "print(matrix)"
   ]
  },
  {
   "cell_type": "markdown",
   "metadata": {},
   "source": [
    "This creates a new matrix with dimensions 2 by 4.\n",
    "\n"
   ]
  },
  {
   "cell_type": "code",
   "execution_count": 10,
   "metadata": {},
   "outputs": [
    {
     "name": "stdout",
     "output_type": "stream",
     "text": [
      "[[3 4]\n",
      " [6 7]]\n",
      "[[3]\n",
      " [6]]\n",
      "[[2 4]\n",
      " [5 7]]\n"
     ]
    }
   ],
   "source": [
    "print(matrix[:,2:])\n",
    "range(0,10)\n",
    "print(matrix[:,2:-1])\n",
    "print(matrix[:,[1,3]])"
   ]
  },
  {
   "cell_type": "markdown",
   "metadata": {},
   "source": [
    "The elements of the matrix can be accessed by using its indices.\n",
    "Since the matrix has 2 dimensions, we need to give it two indices: an index for the row and an index for the column. Remember that in Python the indexing starts at 0.\n",
    "\n"
   ]
  },
  {
   "cell_type": "code",
   "execution_count": 1,
   "metadata": {},
   "outputs": [],
   "source": []
  },
  {
   "cell_type": "markdown",
   "metadata": {},
   "source": [
    "We can use `:` to slice the matrix and obtain all values of a certain row or of a certain column:\n",
    "\n"
   ]
  },
  {
   "cell_type": "code",
   "execution_count": 1,
   "metadata": {},
   "outputs": [],
   "source": []
  },
  {
   "cell_type": "markdown",
   "metadata": {},
   "source": [
    "We can also select specific columns or rows:\n",
    "\n"
   ]
  },
  {
   "cell_type": "code",
   "execution_count": 1,
   "metadata": {},
   "outputs": [],
   "source": []
  },
  {
   "cell_type": "markdown",
   "metadata": {},
   "source": [
    "Like the built-in function `range`, numpy also provides a way to generate a sequence of numbers with the function `np.arange`:\n",
    "\n"
   ]
  },
  {
   "cell_type": "code",
   "execution_count": 11,
   "metadata": {},
   "outputs": [
    {
     "name": "stdout",
     "output_type": "stream",
     "text": [
      "<class 'numpy.ndarray'>\n"
     ]
    }
   ],
   "source": [
    "range(0,10)\n",
    "print(type(np.arange(0,10)))"
   ]
  },
  {
   "cell_type": "markdown",
   "metadata": {},
   "source": [
    "We can reshape this vector into a matrix:\n",
    "\n"
   ]
  },
  {
   "cell_type": "code",
   "execution_count": 13,
   "metadata": {},
   "outputs": [
    {
     "name": "stdout",
     "output_type": "stream",
     "text": [
      "[[ 0  1  2  3  4]\n",
      " [ 5  6  7  8  9]\n",
      " [10 11 12 13 14]\n",
      " [15 16 17 18 19]]\n"
     ]
    }
   ],
   "source": [
    "vec = np.arange(20)\n",
    "matrix = vec.reshape(4,5)\n",
    "print(matrix)"
   ]
  },
  {
   "cell_type": "markdown",
   "metadata": {},
   "source": [
    "We can also get the type of the values stored in the matrix:\n",
    "\n"
   ]
  },
  {
   "cell_type": "code",
   "execution_count": 14,
   "metadata": {},
   "outputs": [
    {
     "name": "stdout",
     "output_type": "stream",
     "text": [
      "int32\n"
     ]
    }
   ],
   "source": [
    "print(matrix.dtype)"
   ]
  },
  {
   "cell_type": "markdown",
   "metadata": {},
   "source": [
    "Observe that the `np.array` takes a list of numbers as input, it does not take numbers as separate inputs:\n",
    "\n"
   ]
  },
  {
   "cell_type": "code",
   "execution_count": 15,
   "metadata": {},
   "outputs": [
    {
     "data": {
      "text/plain": [
       "array([[1],\n",
       "       [2]])"
      ]
     },
     "execution_count": 15,
     "metadata": {},
     "output_type": "execute_result"
    }
   ],
   "source": [
    "np.array([[1],[2]])"
   ]
  },
  {
   "cell_type": "markdown",
   "metadata": {},
   "source": [
    "If a list of lists is given, then we get a two-dimensional array:\n",
    "\n"
   ]
  },
  {
   "cell_type": "code",
   "execution_count": 1,
   "metadata": {},
   "outputs": [],
   "source": []
  },
  {
   "cell_type": "markdown",
   "metadata": {},
   "source": [
    "\n",
    "# Data Types\n",
    "\n"
   ]
  },
  {
   "cell_type": "markdown",
   "metadata": {},
   "source": [
    "The data type of values stored in a matrix are usually inferred when the values are assigned:\n",
    "\n"
   ]
  },
  {
   "cell_type": "code",
   "execution_count": 17,
   "metadata": {},
   "outputs": [
    {
     "name": "stdout",
     "output_type": "stream",
     "text": [
      "[2.3  4.5  6.66]\n"
     ]
    }
   ],
   "source": [
    "matrixfl= np.array([2.3,4.5,6.66])\n",
    "print(matrixfl)"
   ]
  },
  {
   "cell_type": "markdown",
   "metadata": {},
   "source": [
    "The first matrix has the type `int64` and the second matrix has the type `float64`.\n",
    "Notice that if we try to change a value in the first matrix to a float, it will be implicitly converted to an integer:\n",
    "\n"
   ]
  },
  {
   "cell_type": "code",
   "execution_count": 18,
   "metadata": {},
   "outputs": [],
   "source": [
    "matrixfjk = np.array([[1,2],[3,4]],dtype = 'float_')"
   ]
  },
  {
   "cell_type": "markdown",
   "metadata": {},
   "source": [
    "We can specify the type of data when we first create the matrix:\n",
    "\n"
   ]
  },
  {
   "cell_type": "code",
   "execution_count": 1,
   "metadata": {},
   "outputs": [],
   "source": []
  },
  {
   "cell_type": "markdown",
   "metadata": {},
   "source": [
    "The matrix is initialized with integers, but we specify the type to be a float, so the values are implicitly converted to floats.\n",
    "\n",
    "The most common data types for numbers are:\n",
    "\n",
    "| Data Type|Description|\n",
    "|---|---|\n",
    "| int\\_|default integer type (usually int64)|\n",
    "| float\\_|default float type (usually float64)|\n",
    "| complex\\_|default complex type (usually complex128)|\n",
    "| bool\\_|default boolean type (uses a byte)|\n",
    "|---|---|\n",
    "| int<bytes>|where <bytes> can be 8, 16, 32 or 64|\n",
    "| uint<bytes>|unsigned integer|\n",
    "| float<bytes>||\n",
    "| complex<bytes>||\n",
    "\n",
    "Remember that defining a data type will convert the initial values  to the defined type:\n",
    "\n"
   ]
  },
  {
   "cell_type": "code",
   "execution_count": 19,
   "metadata": {},
   "outputs": [
    {
     "name": "stdout",
     "output_type": "stream",
     "text": [
      "[[False  True]\n",
      " [ True False]]\n"
     ]
    }
   ],
   "source": [
    "matrix = np.array([[0,1],[True,False]],dtype = 'bool_')\n",
    "print(matrix)"
   ]
  },
  {
   "cell_type": "markdown",
   "metadata": {},
   "source": [
    "If the values cannot be converted, an error is raised:\n",
    "\n"
   ]
  },
  {
   "cell_type": "code",
   "execution_count": 1,
   "metadata": {},
   "outputs": [],
   "source": []
  },
  {
   "cell_type": "markdown",
   "metadata": {},
   "source": [
    "The command raises a `ValueError` and informs us that the string 'abc' cannot be converted to a float.\n",
    "\n",
    "It is also possible to store strings in numpy arrays (matrices):\n",
    "\n"
   ]
  },
  {
   "cell_type": "code",
   "execution_count": 22,
   "metadata": {},
   "outputs": [
    {
     "name": "stdout",
     "output_type": "stream",
     "text": [
      "['a' 'b' 'c'] <U20\n",
      "['dsds' 'b' 'c']\n"
     ]
    }
   ],
   "source": [
    "names = np.array(['a','b','c'],dtype = '<U20')\n",
    "print(names,names.dtype)\n",
    "names[0] = 'dsds'\n",
    "print(names)"
   ]
  },
  {
   "cell_type": "markdown",
   "metadata": {},
   "source": [
    "Notice that the type is actually \"<U1\". The \"U\" stands for \"unicode string\" and \"1\" is the number of characters.\n",
    "Since all values passed to the `np.array` constructor have just 1 character, numpy assumes all data that we will store on this matrix will have a single character.\n",
    "This might not be the case, and if we try to store a bigger string:\n",
    "\n"
   ]
  },
  {
   "cell_type": "code",
   "execution_count": 1,
   "metadata": {},
   "outputs": [],
   "source": [
    "#matrix = np.array([{},{},{}])"
   ]
  },
  {
   "cell_type": "markdown",
   "metadata": {},
   "source": [
    "Instead of storing the entire string, only the first character was stored.\n",
    "We can let numpy know that we need more space in memory by defining how many characters we need:\n",
    "\n"
   ]
  },
  {
   "cell_type": "code",
   "execution_count": 1,
   "metadata": {},
   "outputs": [],
   "source": []
  },
  {
   "cell_type": "markdown",
   "metadata": {},
   "source": [
    "Now we can store 100 characters in each element of the matrix.\n",
    "\n",
    "Numpy can handle other data types, even objects:\n",
    "\n"
   ]
  },
  {
   "cell_type": "code",
   "execution_count": 1,
   "metadata": {},
   "outputs": [],
   "source": []
  },
  {
   "cell_type": "markdown",
   "metadata": {},
   "source": [
    "In this case the data type is `object`.\n",
    "\n",
    "The complete documentation on specifying data types (`dtype`) can be found [here](https://docs.scipy.org/doc/numpy/reference/arrays.dtypes.html#arrays-dtypes).\n",
    "Arrays can also hold more than one type, details on how to hanlde multiple types can be found [here](https://docs.scipy.org/doc/numpy/user/basics.rec.html#module-numpy.doc.structured_arrays).\n",
    "\n"
   ]
  },
  {
   "cell_type": "markdown",
   "metadata": {},
   "source": [
    "\n",
    "# Empty and Pre-Filled Arrays\n",
    "\n"
   ]
  },
  {
   "cell_type": "markdown",
   "metadata": {},
   "source": [
    "On many cases we will want to create an empty array and populate as the code is executed.\n",
    "We can create arrays pre-filled with ones or zeros via:\n",
    "\n"
   ]
  },
  {
   "cell_type": "code",
   "execution_count": 31,
   "metadata": {},
   "outputs": [
    {
     "name": "stdout",
     "output_type": "stream",
     "text": [
      "[[1. 1. 1. 1. 1.]\n",
      " [1. 1. 1. 1. 1.]\n",
      " [1. 1. 1. 1. 1.]\n",
      " [1. 1. 1. 1. 1.]]\n",
      "[[0. 0. 0. 0. 0.]\n",
      " [0. 0. 0. 0. 0.]\n",
      " [0. 0. 0. 0. 0.]\n",
      " [0. 0. 0. 0. 0.]]\n",
      "[['a' 'a' 'a' 'a' 'a']\n",
      " ['a' 'a' 'a' 'a' 'a']\n",
      " ['a' 'a' 'a' 'a' 'a']\n",
      " ['a' 'a' 'a' 'a' 'a']]\n"
     ]
    }
   ],
   "source": [
    "ones = np.ones((4,5))\n",
    "print(ones)\n",
    "zeros = np.zeros((4,5))\n",
    "print(zeros)\n",
    "sa = np.full((4,5),'a')\n",
    "print(sa)"
   ]
  },
  {
   "cell_type": "markdown",
   "metadata": {},
   "source": [
    "The functions `np.ones` and `np.zeros` takes a tuple, which defines the shape of the matrix to be created.\n",
    "\n",
    "The function `np.empty` creates an \"empty\" matrix of the given shape and data type:\n",
    "\n"
   ]
  },
  {
   "cell_type": "code",
   "execution_count": 1,
   "metadata": {},
   "outputs": [],
   "source": []
  },
  {
   "cell_type": "markdown",
   "metadata": {},
   "source": [
    "The matrix is filled with whatever values are in the memory.\n",
    "If you use this command make sure all values are correctly replaced, otherwise you may run into bugs.\n",
    "\n",
    "It is also possible to pre-fill a matrix with any given value:\n",
    "\n"
   ]
  },
  {
   "cell_type": "code",
   "execution_count": 1,
   "metadata": {},
   "outputs": [],
   "source": []
  },
  {
   "cell_type": "markdown",
   "metadata": {},
   "source": [
    "\n",
    "# Operations\n",
    "\n"
   ]
  },
  {
   "cell_type": "markdown",
   "metadata": {},
   "source": [
    "Arithmetic operations with numpy arrays are always <span class=\"underline\">element wise</span>.\n",
    "\n"
   ]
  },
  {
   "cell_type": "code",
   "execution_count": 1,
   "metadata": {},
   "outputs": [],
   "source": []
  },
  {
   "cell_type": "markdown",
   "metadata": {},
   "source": [
    "Notice that `**` is the same as `pow(c,2)`.\n",
    "\n",
    "Comparisons are also done element wise:\n",
    "\n"
   ]
  },
  {
   "cell_type": "code",
   "execution_count": 33,
   "metadata": {},
   "outputs": [
    {
     "name": "stdout",
     "output_type": "stream",
     "text": [
      "[False False False False False  True  True  True  True  True]\n",
      "5\n"
     ]
    }
   ],
   "source": [
    "a = np.array(range(0,10))\n",
    "print(a >=5)\n",
    "print(np.sum(a>=5))"
   ]
  },
  {
   "cell_type": "markdown",
   "metadata": {},
   "source": [
    "Booleans can be used to recover elements of an array:\n",
    "\n"
   ]
  },
  {
   "cell_type": "code",
   "execution_count": 34,
   "metadata": {},
   "outputs": [
    {
     "name": "stdout",
     "output_type": "stream",
     "text": [
      "[5 6 7 8 9]\n"
     ]
    }
   ],
   "source": [
    "print(a[a>=5])"
   ]
  },
  {
   "cell_type": "markdown",
   "metadata": {},
   "source": [
    "You can recover the indices that satisfy a condition with the `np.where` function:\n",
    "\n"
   ]
  },
  {
   "cell_type": "code",
   "execution_count": 35,
   "metadata": {},
   "outputs": [
    {
     "name": "stdout",
     "output_type": "stream",
     "text": [
      "(array([5, 6, 7, 8, 9], dtype=int64),)\n",
      "[5 6 7 8 9]\n"
     ]
    }
   ],
   "source": [
    "indices = np.where(a>=5)\n",
    "print(indices)\n",
    "print(a[indices])"
   ]
  },
  {
   "cell_type": "markdown",
   "metadata": {},
   "source": [
    "It is possible to manipulate all elements of an array and accumulate the values:\n",
    "\n"
   ]
  },
  {
   "cell_type": "code",
   "execution_count": 40,
   "metadata": {},
   "outputs": [
    {
     "name": "stdout",
     "output_type": "stream",
     "text": [
      "[0.00241851 0.00284123 0.00264398]\n"
     ]
    }
   ],
   "source": [
    "returns = np.random.random((78,3))\n",
    "#print(returns)\n",
    "returns /= 100\n",
    "# print(returns)\n",
    "RV = np.sum(returns**2, axis=0)\n",
    "print(RV)\n"
   ]
  },
  {
   "cell_type": "markdown",
   "metadata": {},
   "source": [
    "The `np.random.random` is a function that generates random values in the interval $[0, 1)$.\n",
    "The `np.sum` function accumulates over elements in an array by summing them.\n",
    "Calling `np.sum` without the `axis` argument will sum all of the elements in a matrix, resulting in a single value.\n",
    "The keyword argument `axis=0` instructs the sum to occur along the rows.\n",
    "Numpy provides many universal mathematical functions, such as `np.sqrt` for computing the square root of a number (remember, element wise).\n",
    "\n",
    "We can find the minimum and maximum values in an array:\n",
    "\n"
   ]
  },
  {
   "cell_type": "code",
   "execution_count": 41,
   "metadata": {},
   "outputs": [
    {
     "data": {
      "text/plain": [
       "['Lock',\n",
       " 'RandomState',\n",
       " '__RandomState_ctor',\n",
       " '__all__',\n",
       " '__builtins__',\n",
       " '__cached__',\n",
       " '__doc__',\n",
       " '__file__',\n",
       " '__loader__',\n",
       " '__name__',\n",
       " '__package__',\n",
       " '__path__',\n",
       " '__spec__',\n",
       " 'absolute_import',\n",
       " 'beta',\n",
       " 'binomial',\n",
       " 'bytes',\n",
       " 'chisquare',\n",
       " 'choice',\n",
       " 'dirichlet',\n",
       " 'division',\n",
       " 'exponential',\n",
       " 'f',\n",
       " 'gamma',\n",
       " 'geometric',\n",
       " 'get_state',\n",
       " 'gumbel',\n",
       " 'hypergeometric',\n",
       " 'info',\n",
       " 'laplace',\n",
       " 'logistic',\n",
       " 'lognormal',\n",
       " 'logseries',\n",
       " 'mtrand',\n",
       " 'multinomial',\n",
       " 'multivariate_normal',\n",
       " 'negative_binomial',\n",
       " 'noncentral_chisquare',\n",
       " 'noncentral_f',\n",
       " 'normal',\n",
       " 'np',\n",
       " 'operator',\n",
       " 'pareto',\n",
       " 'permutation',\n",
       " 'poisson',\n",
       " 'power',\n",
       " 'print_function',\n",
       " 'rand',\n",
       " 'randint',\n",
       " 'randn',\n",
       " 'random',\n",
       " 'random_integers',\n",
       " 'random_sample',\n",
       " 'ranf',\n",
       " 'rayleigh',\n",
       " 'sample',\n",
       " 'seed',\n",
       " 'set_state',\n",
       " 'shuffle',\n",
       " 'standard_cauchy',\n",
       " 'standard_exponential',\n",
       " 'standard_gamma',\n",
       " 'standard_normal',\n",
       " 'standard_t',\n",
       " 'test',\n",
       " 'triangular',\n",
       " 'uniform',\n",
       " 'vonmises',\n",
       " 'wald',\n",
       " 'warnings',\n",
       " 'weibull',\n",
       " 'zipf']"
      ]
     },
     "execution_count": 41,
     "metadata": {},
     "output_type": "execute_result"
    }
   ],
   "source": [
    "np.min\n",
    "np.max\n",
    "np.argmin #the index of minimum value\n",
    "dir(np.random)\n",
    "np.eyes()"
   ]
  },
  {
   "cell_type": "markdown",
   "metadata": {},
   "source": [
    "Numpy also implements matrix operations:\n",
    "\n"
   ]
  },
  {
   "cell_type": "code",
   "execution_count": 42,
   "metadata": {},
   "outputs": [
    {
     "name": "stdout",
     "output_type": "stream",
     "text": [
      "[[1. 0.]\n",
      " [0. 1.]]\n",
      "[[3. 3. 3.]\n",
      " [3. 3. 3.]]\n"
     ]
    }
   ],
   "source": [
    "a = np.eye(2)\n",
    "print(a)\n",
    "b = np.full((2,3),3)\n",
    "print(a@b)"
   ]
  },
  {
   "cell_type": "code",
   "execution_count": 43,
   "metadata": {},
   "outputs": [
    {
     "data": {
      "text/plain": [
       "['LinAlgError',\n",
       " '__builtins__',\n",
       " '__cached__',\n",
       " '__doc__',\n",
       " '__file__',\n",
       " '__loader__',\n",
       " '__name__',\n",
       " '__package__',\n",
       " '__path__',\n",
       " '__spec__',\n",
       " '_umath_linalg',\n",
       " 'absolute_import',\n",
       " 'cholesky',\n",
       " 'cond',\n",
       " 'det',\n",
       " 'division',\n",
       " 'eig',\n",
       " 'eigh',\n",
       " 'eigvals',\n",
       " 'eigvalsh',\n",
       " 'info',\n",
       " 'inv',\n",
       " 'lapack_lite',\n",
       " 'linalg',\n",
       " 'lstsq',\n",
       " 'matrix_power',\n",
       " 'matrix_rank',\n",
       " 'multi_dot',\n",
       " 'norm',\n",
       " 'pinv',\n",
       " 'print_function',\n",
       " 'qr',\n",
       " 'slogdet',\n",
       " 'solve',\n",
       " 'svd',\n",
       " 'tensorinv',\n",
       " 'tensorsolve',\n",
       " 'test']"
      ]
     },
     "execution_count": 43,
     "metadata": {},
     "output_type": "execute_result"
    }
   ],
   "source": [
    "dir(np.linalg)\n",
    "OLS_beta = np.linalg.inv(X.T@X) @(X.T@X)"
   ]
  },
  {
   "cell_type": "markdown",
   "metadata": {},
   "source": [
    "A table that compares commands in Matlab to commands in Numpy is available [here](https://docs.scipy.org/doc/numpy/user/numpy-for-matlab-users.html).\n",
    "A good overview of many numpy features is available [here](https://docs.scipy.org/doc/numpy/user/quickstart.html#quickstart-tutorial).\n",
    "\n"
   ]
  }
 ],
 "metadata": {
  "kernelspec": {
   "display_name": "Python 3",
   "language": "python",
   "name": "python3"
  },
  "language_info": {
   "codemirror_mode": {
    "name": "ipython",
    "version": 3
   },
   "file_extension": ".py",
   "mimetype": "text/x-python",
   "name": "python",
   "nbconvert_exporter": "python",
   "pygments_lexer": "ipython3",
   "version": "3.6.6"
  },
  "org": null
 },
 "nbformat": 4,
 "nbformat_minor": 1
}
